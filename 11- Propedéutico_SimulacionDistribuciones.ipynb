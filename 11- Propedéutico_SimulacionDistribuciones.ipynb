{
 "cells": [
  {
   "cell_type": "code",
   "execution_count": 1,
   "metadata": {},
   "outputs": [],
   "source": [
    "import numpy as np\n",
    "from scipy.stats import norm\n",
    "from scipy.stats import expon\n",
    "from scipy.stats import gamma\n",
    "from scipy.stats import beta\n",
    "import matplotlib.pyplot as plt\n",
    "from math import log"
   ]
  },
  {
   "cell_type": "code",
   "execution_count": 2,
   "metadata": {},
   "outputs": [],
   "source": [
    "def DistNorm(m,v):\n",
    "    m = float(m)\n",
    "    v = float(v)\n",
    "    rv = norm(m,v)\n",
    "    vec = []\n",
    "    for i in range(10000):\n",
    "        vec.extend([rv.rvs(1)[0]])\n",
    "    mv = m\n",
    "    maprox = np.mean(vec)\n",
    "    vaprox = np.std(vec)**2.\n",
    "    print(\"Media teorica: \" + \"%.4f\" %mv + \" Media muestral: \" + \"%.4f\" %maprox)\n",
    "    print(\"Varianza teorica: \" + \"%.4f\" %v + \" Varianza muestral: \" + \"%.4f\" %vaprox)\n",
    "    fig = plt.figure(figsize=(2,2))\n",
    "    plt.hist(vec, 25, facecolor='blue', alpha=0.9,label = 'Histograma Gamma')\n",
    "    plt.show()\n",
    "    return 0"
   ]
  },
  {
   "cell_type": "code",
   "execution_count": 3,
   "metadata": {},
   "outputs": [],
   "source": [
    "def DistExp(l):\n",
    "    #https://docs.scipy.org/doc/scipy/reference/generated/scipy.stats.expon.html\n",
    "    l = float(l)\n",
    "    rv = expon(0.,1./l)\n",
    "    vec = []\n",
    "    for i in range(10000):\n",
    "        vec.extend([rv.rvs(1)[0]])\n",
    "    mv = 1./l\n",
    "    maprox = np.mean(vec)\n",
    "    v = 1./(l**2.) \n",
    "    vaprox = np.std(vec)**2.\n",
    "    print(\"Media teorica: \" + \"%.4f\" %mv + \" Media muestral: \" + \"%.4f\" %maprox)\n",
    "    print(\"Varianza teorica: \" + \"%.4f\" %v + \" Varianza muestral: \" + \"%.4f\" %vaprox)\n",
    "    fig = plt.figure(figsize=(2,2))\n",
    "    plt.hist(vec, 25, facecolor='blue', alpha=0.9,label = 'Histograma Gamma')\n",
    "    plt.show()\n",
    "    return 0"
   ]
  },
  {
   "cell_type": "code",
   "execution_count": 4,
   "metadata": {},
   "outputs": [],
   "source": [
    "def DistGamma(a,b):\n",
    "    #https://docs.scipy.org/doc/scipy/reference/generated/scipy.stats.gamma.html\n",
    "    a = float(a)\n",
    "    b = float(b)\n",
    "    rv = gamma(a,0.,1./b)\n",
    "    vec = []\n",
    "    for i in range(10000):\n",
    "        vec.extend([rv.rvs(1)[0]])\n",
    "    mv = a/b\n",
    "    maprox = np.mean(vec)\n",
    "    v = a/(b**2.)\n",
    "    vaprox = np.std(vec)**2.\n",
    "    print(\"Media teorica: \" + \"%.4f\" %mv + \" Media muestral: \" + \"%.4f\" %maprox)\n",
    "    print(\"Varianza teorica: \" + \"%.4f\" %v + \" Varianza muestral: \" + \"%.4f\" %vaprox)\n",
    "    fig = plt.figure(figsize=(2,2))\n",
    "    plt.hist(vec, 25, facecolor='blue', alpha=0.9,label = 'Histograma Gamma')\n",
    "    plt.show()\n",
    "    return 0"
   ]
  },
  {
   "cell_type": "code",
   "execution_count": 5,
   "metadata": {},
   "outputs": [],
   "source": [
    "def DistBeta(a,b):\n",
    "    #https://docs.scipy.org/doc/scipy/reference/generated/scipy.stats.beta.html\n",
    "    a = float(a)\n",
    "    b = float(b)\n",
    "    rv = beta(a,b)\n",
    "    vec = []\n",
    "    for i in range(10000):\n",
    "        vec.extend([rv.rvs(1)[0]])\n",
    "    mv = a/(a+b)\n",
    "    maprox = np.mean(vec)\n",
    "    v = (a*b)/(((a+b)**2.)*(a+b+1.)) \n",
    "    vaprox = np.std(vec)**2.\n",
    "    print(\"Media teorica: \" + \"%.4f\" %mv + \" Media muestral: \" + \"%.4f\" %maprox)\n",
    "    print(\"Varianza teorica: \" + \"%.4f\" %v + \" Varianza muestral: \" + \"%.4f\" %vaprox)\n",
    "    fig = plt.figure(figsize=(2,2))\n",
    "    plt.hist(vec, 25, facecolor='blue', alpha=0.9,label = 'Histograma Gamma')\n",
    "    plt.show()\n",
    "    return 0"
   ]
  },
  {
   "cell_type": "code",
   "execution_count": 6,
   "metadata": {
    "scrolled": true
   },
   "outputs": [
    {
     "name": "stdout",
     "output_type": "stream",
     "text": [
      "Media teorica: 0.0000 Media muestral: -0.0034\n",
      "Varianza teorica: 1.0000 Varianza muestral: 1.0009\n"
     ]
    },
    {
     "data": {
      "image/png": "[encoded data removed]",
      "text/plain": [
       "<Figure size 200x200 with 1 Axes>"
      ]
     },
     "metadata": {},
     "output_type": "display_data"
    },
    {
     "name": "stdout",
     "output_type": "stream",
     "text": [
      "Media teorica: -1.0000 Media muestral: -1.0083\n",
      "Varianza teorica: 1.0000 Varianza muestral: 1.0141\n"
     ]
    },
    {
     "data": {
      "image/png": "[encoded data removed]",
      "text/plain": [
       "<Figure size 200x200 with 1 Axes>"
      ]
     },
     "metadata": {},
     "output_type": "display_data"
    },
    {
     "name": "stdout",
     "output_type": "stream",
     "text": [
      "Media teorica: 1.0000 Media muestral: 1.0031\n",
      "Varianza teorica: 1.0000 Varianza muestral: 0.9848\n"
     ]
    },
    {
     "data": {
      "image/png": "[encoded data removed]",
      "text/plain": [
       "<Figure size 200x200 with 1 Axes>"
      ]
     },
     "metadata": {},
     "output_type": "display_data"
    },
    {
     "name": "stdout",
     "output_type": "stream",
     "text": [
      "Media teorica: 0.0000 Media muestral: -0.0012\n",
      "Varianza teorica: 0.1000 Varianza muestral: 0.0099\n"
     ]
    },
    {
     "data": {
      "image/png": "[encoded data removed]",
      "text/plain": [
       "<Figure size 200x200 with 1 Axes>"
      ]
     },
     "metadata": {},
     "output_type": "display_data"
    },
    {
     "name": "stdout",
     "output_type": "stream",
     "text": [
      "Media teorica: 0.0000 Media muestral: 0.2427\n",
      "Varianza teorica: 10.0000 Varianza muestral: 100.4417\n"
     ]
    },
    {
     "data": {
      "image/png": "[encoded data removed]",
      "text/plain": [
       "<Figure size 200x200 with 1 Axes>"
      ]
     },
     "metadata": {},
     "output_type": "display_data"
    },
    {
     "data": {
      "text/plain": [
       "0"
      ]
     },
     "execution_count": 6,
     "metadata": {},
     "output_type": "execute_result"
    }
   ],
   "source": [
    "DistNorm(0.,1.)\n",
    "DistNorm(-1.,1.)\n",
    "DistNorm(1.,1.)\n",
    "DistNorm(0.,0.1)\n",
    "DistNorm(0.,10.)"
   ]
  },
  {
   "cell_type": "code",
   "execution_count": 7,
   "metadata": {},
   "outputs": [
    {
     "name": "stdout",
     "output_type": "stream",
     "text": [
      "Media teorica: 1.0000 Media muestral: 0.9975\n",
      "Varianza teorica: 1.0000 Varianza muestral: 0.9680\n"
     ]
    },
    {
     "data": {
      "image/png": "[encoded data removed]",
      "text/plain": [
       "<Figure size 200x200 with 1 Axes>"
      ]
     },
     "metadata": {},
     "output_type": "display_data"
    },
    {
     "name": "stdout",
     "output_type": "stream",
     "text": [
      "Media teorica: 0.3333 Media muestral: 0.3294\n",
      "Varianza teorica: 0.1111 Varianza muestral: 0.1067\n"
     ]
    },
    {
     "data": {
      "image/png": "[encoded data removed]",
      "text/plain": [
       "<Figure size 200x200 with 1 Axes>"
      ]
     },
     "metadata": {},
     "output_type": "display_data"
    },
    {
     "name": "stdout",
     "output_type": "stream",
     "text": [
      "Media teorica: 0.1000 Media muestral: 0.0983\n",
      "Varianza teorica: 0.0100 Varianza muestral: 0.0094\n"
     ]
    },
    {
     "data": {
      "image/png": "[encoded data removed]",
      "text/plain": [
       "<Figure size 200x200 with 1 Axes>"
      ]
     },
     "metadata": {},
     "output_type": "display_data"
    },
    {
     "data": {
      "text/plain": [
       "0"
      ]
     },
     "execution_count": 7,
     "metadata": {},
     "output_type": "execute_result"
    }
   ],
   "source": [
    "DistExp(1.)\n",
    "DistExp(3.)\n",
    "DistExp(10.)"
   ]
  },
  {
   "cell_type": "code",
   "execution_count": 8,
   "metadata": {},
   "outputs": [
    {
     "name": "stdout",
     "output_type": "stream",
     "text": [
      "Media teorica: 0.5000 Media muestral: 0.4983\n",
      "Varianza teorica: 0.2500 Varianza muestral: 0.2549\n"
     ]
    },
    {
     "data": {
      "image/png": "[encoded data removed]",
      "text/plain": [
       "<Figure size 200x200 with 1 Axes>"
      ]
     },
     "metadata": {},
     "output_type": "display_data"
    },
    {
     "name": "stdout",
     "output_type": "stream",
     "text": [
      "Media teorica: 1.0000 Media muestral: 0.9926\n",
      "Varianza teorica: 0.5000 Varianza muestral: 0.4795\n"
     ]
    },
    {
     "data": {
      "image/png": "[encoded data removed]",
      "text/plain": [
       "<Figure size 200x200 with 1 Axes>"
      ]
     },
     "metadata": {},
     "output_type": "display_data"
    },
    {
     "name": "stdout",
     "output_type": "stream",
     "text": [
      "Media teorica: 0.5000 Media muestral: 0.5008\n",
      "Varianza teorica: 0.0500 Varianza muestral: 0.0497\n"
     ]
    },
    {
     "data": {
      "image/png": "[encoded data removed]",
      "text/plain": [
       "<Figure size 200x200 with 1 Axes>"
      ]
     },
     "metadata": {},
     "output_type": "display_data"
    },
    {
     "data": {
      "text/plain": [
       "0"
      ]
     },
     "execution_count": 8,
     "metadata": {},
     "output_type": "execute_result"
    }
   ],
   "source": [
    "DistGamma(1.,2.)\n",
    "DistGamma(2.,2.)\n",
    "DistGamma(5.,10.)"
   ]
  },
  {
   "cell_type": "code",
   "execution_count": 9,
   "metadata": {},
   "outputs": [
    {
     "name": "stdout",
     "output_type": "stream",
     "text": [
      "Media teorica: 0.5000 Media muestral: 0.4959\n",
      "Varianza teorica: 0.1667 Varianza muestral: 0.1671\n"
     ]
    },
    {
     "data": {
      "image/png": "[encoded data removed]",
      "text/plain": [
       "<Figure size 200x200 with 1 Axes>"
      ]
     },
     "metadata": {},
     "output_type": "display_data"
    },
    {
     "name": "stdout",
     "output_type": "stream",
     "text": [
      "Media teorica: 0.5000 Media muestral: 0.4976\n",
      "Varianza teorica: 0.0833 Varianza muestral: 0.0834\n"
     ]
    },
    {
     "data": {
      "image/png": "[encoded data removed]",
      "text/plain": [
       "<Figure size 200x200 with 1 Axes>"
      ]
     },
     "metadata": {},
     "output_type": "display_data"
    },
    {
     "name": "stdout",
     "output_type": "stream",
     "text": [
      "Media teorica: 0.5000 Media muestral: 0.5026\n",
      "Varianza teorica: 0.0357 Varianza muestral: 0.0355\n"
     ]
    },
    {
     "data": {
      "image/png": "[encoded data removed]",
      "text/plain": [
       "<Figure size 200x200 with 1 Axes>"
      ]
     },
     "metadata": {},
     "output_type": "display_data"
    },
    {
     "name": "stdout",
     "output_type": "stream",
     "text": [
      "Media teorica: 0.5000 Media muestral: 0.5003\n",
      "Varianza teorica: 0.0119 Varianza muestral: 0.0119\n"
     ]
    },
    {
     "data": {
      "image/png": "[encoded data removed]",
      "text/plain": [
       "<Figure size 200x200 with 1 Axes>"
      ]
     },
     "metadata": {},
     "output_type": "display_data"
    },
    {
     "data": {
      "text/plain": [
       "0"
      ]
     },
     "execution_count": 9,
     "metadata": {},
     "output_type": "execute_result"
    }
   ],
   "source": [
    "DistBeta(0.25,0.25)\n",
    "DistBeta(1.0,1.0)\n",
    "DistBeta(3.,3.)\n",
    "DistBeta(10.,10.)"
   ]
  },
  {
   "cell_type": "code",
   "execution_count": null,
   "metadata": {},
   "outputs": [],
   "source": []
  }
 ],
 "metadata": {
  "kernelspec": {
   "display_name": "Python 3",
   "language": "python",
   "name": "python3"
  },
  "language_info": {
   "codemirror_mode": {
    "name": "ipython",
    "version": 3
   },
   "file_extension": ".py",
   "mimetype": "text/x-python",
   "name": "python",
   "nbconvert_exporter": "python",
   "pygments_lexer": "ipython3",
   "version": "3.11.2"
  }
 },
 "nbformat": 4,
 "nbformat_minor": 2
}
