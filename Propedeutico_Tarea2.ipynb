{
 "cells": [
  {
   "cell_type": "markdown",
   "metadata": {},
   "source": [
    "# Tarea 2. Propedéutico Maestría en Ciencia de Datos"
   ]
  },
  {
   "cell_type": "markdown",
   "metadata": {},
   "source": [
    "### Ejercicio 1"
   ]
  },
  {
   "cell_type": "markdown",
   "metadata": {},
   "source": [
    "Elabore un algoritmo en Python que mediante el método \"descenso por gradiente\" aproxime una regresión lineal a los datos correspondientes al archivo \"Ejercicio1_Tarea2.csv\".\n",
    "<br> a) La lectura de la base de datos debe realizarse mediante la librería pandas y ser guardada en la variaba BRL.\n",
    "<br> b) Debe mostrarse la gráfica de los datos del archivo cvs, junto con la aproximación lineal.\n",
    "<br> c) El código debe imprimir en pantalla la estimación de la pendiente y de la ordenada al origen.\n",
    "<br> d) Agregue a la base BRL la columna \"Error\" que contenga la diferencia entre el valor \"y observado\" y el valor \"y estimado\".\n",
    "<br> e) Genere un histograma con lo valores de la columna \"Error\"."
   ]
  },
  {
   "cell_type": "markdown",
   "metadata": {},
   "source": [
    "### Ejercicio 2"
   ]
  },
  {
   "cell_type": "markdown",
   "metadata": {},
   "source": [
    "Mediante un algoritmo de Python grafique la función $f(x) = \\mbox{sen}(x)$ para $x \\in [0,2\\pi]$.\n",
    "<br> a) Diseñe un algoritmo que calcule la integral de la función $f(x) = \\mbox{sen}(x)$ en un interalo $[a,b]$.\n",
    "<br> b) Con base en el algoritmo elaborado en el inciso anterior, calcule $\\int_0^{\\pi} \\mbox{sen}(x) \\, dx$.\n",
    "<br> c) Con base en el algoritmo elaborado en el inciso (a), calcule $\\int_{\\pi}^{2 \\pi} \\mbox{sen}(x) \\, dx$.\n",
    "<br> d) ¿Qué relación existe entre los cálculos obtenidos en los incisos (b) y (c)?"
   ]
  },
  {
   "cell_type": "markdown",
   "metadata": {},
   "source": [
    "### Ejercicio 3"
   ]
  },
  {
   "cell_type": "markdown",
   "metadata": {},
   "source": [
    "Elabore un algoritmo en Python que simule el lanzamiento de una moneda, en donde la probabilidad de obtener águila sea el doble que la probabilidad de obtener sol. \n",
    "Mediante una gráfica muestre como al aumentar el número de simulaciones, las probabilidades de obtener águila y sol convergen a un valor (indicando los valores de convergencia)."
   ]
  },
  {
   "cell_type": "markdown",
   "metadata": {},
   "source": [
    "### Ejercicio 4. La respuesta a este ejercicio puede ser elaborada a mano y anexada como imagen al correo de envío de la tarea."
   ]
  },
  {
   "cell_type": "markdown",
   "metadata": {},
   "source": [
    "Considere una función definida como $F(x) = \\int_0^x f(t) \\, dt$ con $x > 0$ y $f(t) = t^2$, calcule $F'(x)$. ¿Se podría establecer alguna relación entre la derivada $F'(x)$ y el integrando $f(t)$?"
   ]
  },
  {
   "cell_type": "code",
   "execution_count": null,
   "metadata": {},
   "outputs": [],
   "source": []
  }
 ],
 "metadata": {
  "kernelspec": {
   "display_name": "Python 3",
   "language": "python",
   "name": "python3"
  },
  "language_info": {
   "codemirror_mode": {
    "name": "ipython",
    "version": 3
   },
   "file_extension": ".py",
   "mimetype": "text/x-python",
   "name": "python",
   "nbconvert_exporter": "python",
   "pygments_lexer": "ipython3",
   "version": "3.11.2"
  }
 },
 "nbformat": 4,
 "nbformat_minor": 2
}
