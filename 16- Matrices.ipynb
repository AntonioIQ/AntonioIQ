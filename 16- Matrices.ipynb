{
 "cells": [
  {
   "cell_type": "code",
   "execution_count": 1,
   "metadata": {},
   "outputs": [],
   "source": [
    "import numpy as np\n",
    "import pandas as pd\n",
    "import matplotlib.pyplot as plt\n",
    "from mpl_toolkits.mplot3d import Axes3D\n",
    "import scipy.stats as stats\n",
    "from math import exp, log\n",
    "pd.set_option('display.max_columns',None)\n",
    "pd.set_option('display.max_rows',None)\n",
    "import warnings\n",
    "warnings.filterwarnings('ignore')\n",
    "pd.options.display.float_format = \"{:,.5f}\".format"
   ]
  },
  {
   "cell_type": "markdown",
   "metadata": {},
   "source": [
    "# Operaciones con matrices"
   ]
  },
  {
   "cell_type": "code",
   "execution_count": 2,
   "metadata": {},
   "outputs": [
    {
     "name": "stdout",
     "output_type": "stream",
     "text": [
      "[[ 1. -2.  0.]\n",
      " [-2.  5.  0.]\n",
      " [ 0.  0.  2.]]\n",
      "[[-2.  -7.  10. ]\n",
      " [ 8.   0.5  0.3]\n",
      " [-5.  -2.   4. ]]\n"
     ]
    }
   ],
   "source": [
    "A = [[1.,-2.,0.],[-2.,5.,0.],[0.,0.,2.]]\n",
    "B = [[-2.,-7.,10.0],[8.,0.5,0.3],[-5,-2,4]]\n",
    "A, B = np.asarray(A), np.asarray(B)\n",
    "print(A)\n",
    "print(B)"
   ]
  },
  {
   "cell_type": "code",
   "execution_count": 3,
   "metadata": {},
   "outputs": [
    {
     "name": "stdout",
     "output_type": "stream",
     "text": [
      "La suma de las matrices es igual a\n",
      "[[-1.  -9.  10. ]\n",
      " [ 6.   5.5  0.3]\n",
      " [-5.  -2.   6. ]]\n"
     ]
    }
   ],
   "source": [
    "#1. Suma\n",
    "C = A + B\n",
    "print(\"La suma de las matrices es igual a\")\n",
    "print(C)"
   ]
  },
  {
   "cell_type": "code",
   "execution_count": 4,
   "metadata": {},
   "outputs": [
    {
     "name": "stdout",
     "output_type": "stream",
     "text": [
      "La resta de las matrices es igual a\n",
      "[[  3.    5.  -10. ]\n",
      " [-10.    4.5  -0.3]\n",
      " [  5.    2.   -2. ]]\n"
     ]
    }
   ],
   "source": [
    "#1. Resta\n",
    "C = A - B\n",
    "print(\"La resta de las matrices es igual a\")\n",
    "print(C)"
   ]
  },
  {
   "cell_type": "code",
   "execution_count": 5,
   "metadata": {},
   "outputs": [
    {
     "name": "stdout",
     "output_type": "stream",
     "text": [
      "El producto de las matrices es igual a\n",
      "[[-18.   -8.    9.4]\n",
      " [ 44.   16.5 -18.5]\n",
      " [-10.   -4.    8. ]]\n"
     ]
    }
   ],
   "source": [
    "#3. Multiplicación\n",
    "C = np.dot(A,B)\n",
    "print(\"El producto de las matrices es igual a\")\n",
    "print(C)"
   ]
  },
  {
   "cell_type": "code",
   "execution_count": 6,
   "metadata": {},
   "outputs": [
    {
     "name": "stdout",
     "output_type": "stream",
     "text": [
      "El producto término a término de las matrices es igual a\n",
      "[[ -2.   14.    0. ]\n",
      " [-16.    2.5   0. ]\n",
      " [ -0.   -0.    8. ]]\n"
     ]
    }
   ],
   "source": [
    "#Notar que la siguiente expresión es la multilpicación término a término\n",
    "C = A*B\n",
    "print(\"El producto término a término de las matrices es igual a\")\n",
    "print(C)"
   ]
  },
  {
   "cell_type": "code",
   "execution_count": 7,
   "metadata": {},
   "outputs": [
    {
     "name": "stdout",
     "output_type": "stream",
     "text": [
      "El determinante es igual a 2.0\n"
     ]
    }
   ],
   "source": [
    "#4. Determinante\n",
    "C = np.linalg.det(A)\n",
    "print(\"El determinante es igual a\",C)"
   ]
  },
  {
   "cell_type": "code",
   "execution_count": 8,
   "metadata": {},
   "outputs": [
    {
     "name": "stdout",
     "output_type": "stream",
     "text": [
      "La matriz A es igual a\n",
      "[[ 1. -2.  0.]\n",
      " [-2.  5.  0.]\n",
      " [ 0.  0.  2.]]\n",
      "La inversa de la matriz A es igual a\n",
      "[[ 5.   2.  -0. ]\n",
      " [ 2.   1.   0. ]\n",
      " [ 0.   0.   0.5]]\n",
      "El producto de la matriz A con su inversa es igual a\n",
      "[[1. 0. 0.]\n",
      " [0. 1. 0.]\n",
      " [0. 0. 1.]]\n"
     ]
    }
   ],
   "source": [
    "#5. Inversa de una matriz\n",
    "Ainv = np.linalg.inv(A)\n",
    "print(\"La matriz A es igual a\")\n",
    "print(A)\n",
    "print(\"La inversa de la matriz A es igual a\")\n",
    "print(Ainv)\n",
    "print(\"El producto de la matriz A con su inversa es igual a\")\n",
    "print(np.dot(A,Ainv))"
   ]
  },
  {
   "cell_type": "code",
   "execution_count": 9,
   "metadata": {},
   "outputs": [
    {
     "name": "stdout",
     "output_type": "stream",
     "text": [
      "[[1 0 0]\n",
      " [0 1 0]\n",
      " [0 0 1]]\n",
      "[[1. 0. 0.]\n",
      " [0. 1. 0.]\n",
      " [0. 0. 1.]]\n",
      "La matriz A es igual a\n",
      "[[ 1. -2.  0.]\n",
      " [-2.  5.  0.]\n",
      " [ 0.  0.  2.]]\n",
      "El producto de la matriz identidad por la matriz A es igual a\n",
      "[[ 1. -2.  0.]\n",
      " [-2.  5.  0.]\n",
      " [ 0.  0.  2.]]\n"
     ]
    }
   ],
   "source": [
    "A = [[1.,-2.,0.],[-2.,5.,0.],[0.,0.,2.]]\n",
    "A = np.asarray(A)\n",
    "I = [[1,0,0],[0,1,0],[0,0,1]]\n",
    "I = np.asarray(I)\n",
    "print(I)\n",
    "I = np.identity(3)\n",
    "print(I)\n",
    "print(\"La matriz A es igual a\")\n",
    "print(A)\n",
    "print(\"El producto de la matriz identidad por la matriz A es igual a\")\n",
    "print(np.dot(I,A))"
   ]
  },
  {
   "cell_type": "code",
   "execution_count": 10,
   "metadata": {},
   "outputs": [
    {
     "name": "stdout",
     "output_type": "stream",
     "text": [
      "El determinante es igual a 0.0\n"
     ]
    }
   ],
   "source": [
    "#Inversa de una matriz con determinante cero\n",
    "A = [[1,0,0],[0,0,0],[0,0,10]]\n",
    "A = np.asarray(A)\n",
    "C = np.linalg.det(A)\n",
    "print(\"El determinante es igual a\",C) \n",
    "#Ainv = np.linalg.inv(A)"
   ]
  },
  {
   "cell_type": "markdown",
   "metadata": {},
   "source": [
    "# Valores y vectores propios"
   ]
  },
  {
   "cell_type": "code",
   "execution_count": 11,
   "metadata": {},
   "outputs": [
    {
     "name": "stdout",
     "output_type": "stream",
     "text": [
      "-----------------------------------------------------\n",
      "Vector propio 1 = [0.4472136  0.89442719]\n",
      "Valor propio 1 = 3.0000000000000004\n",
      "-----------------------------------------------------\n",
      "Vector propio 2 = [-0.4472136   0.89442719]\n",
      "Valor propio 2 = -0.9999999999999996\n",
      "Verificaciones\n",
      "-----------------------------------------------------\n",
      "Matriz por vector propio 1 = [1.34164079 2.68328157]\n",
      "Valor propio por vector propio 1 = [1.3416407864998745, 2.683281572999748]\n",
      "-----------------------------------------------------\n",
      "Matriz por vector propio 2 = [ 0.4472136  -0.89442719]\n",
      "Valor propio por vector propio 2 = [0.4472135954999576, -0.8944271909999155]\n"
     ]
    }
   ],
   "source": [
    "A = [[1,1],[4,1]]\n",
    "A = np.asarray(A)\n",
    "val_prop, vec_prop = np.linalg.eig(A)\n",
    "vec_prop = np.matrix.transpose(vec_prop)\n",
    "n = len(val_prop)\n",
    "for i in range(n):\n",
    "    print(\"-----------------------------------------------------\")\n",
    "    print(\"Vector propio \" + str(i+1) + \" = %s\" %vec_prop[i])\n",
    "    print(\"Valor propio \" + str(i+1) + \" = %s\" %val_prop[i])\n",
    "print(\"Verificaciones\")\n",
    "for i in range(n):\n",
    "    Ax = np.inner(A,vec_prop[i])\n",
    "    vaux = []\n",
    "    for j in range(len(vec_prop[i])):\n",
    "        vaux.extend([val_prop[i]*vec_prop[i][j]])\n",
    "    print(\"-----------------------------------------------------\")\n",
    "    print(\"Matriz por vector propio \" + str(i+1) + \" = %s\" %Ax)\n",
    "    print(\"Valor propio por vector propio \" + str(i+1) + \" = %s\" %vaux)"
   ]
  },
  {
   "cell_type": "code",
   "execution_count": null,
   "metadata": {},
   "outputs": [],
   "source": []
  }
 ],
 "metadata": {
  "kernelspec": {
   "display_name": "Python 3",
   "language": "python",
   "name": "python3"
  },
  "language_info": {
   "codemirror_mode": {
    "name": "ipython",
    "version": 3
   },
   "file_extension": ".py",
   "mimetype": "text/x-python",
   "name": "python",
   "nbconvert_exporter": "python",
   "pygments_lexer": "ipython3",
   "version": "3.11.2"
  }
 },
 "nbformat": 4,
 "nbformat_minor": 2
}
