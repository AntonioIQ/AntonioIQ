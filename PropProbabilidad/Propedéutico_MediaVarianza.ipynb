{
 "cells": [
  {
   "cell_type": "code",
   "execution_count": null,
   "metadata": {},
   "outputs": [],
   "source": [
    "import numpy as np\n",
    "import pandas as pd\n",
    "from datetime import datetime, timedelta\n",
    "import matplotlib.pyplot as plt\n",
    "import stats\n",
    "pd.set_option('display.max_columns',None)\n",
    "pd.set_option('display.max_rows',None)\n",
    "pd.options.display.float_format = \"{:,.5f}\".format\n",
    "import warnings\n",
    "warnings.filterwarnings('ignore')"
   ]
  },
  {
   "cell_type": "markdown",
   "metadata": {},
   "source": [
    "# Lectura de datos"
   ]
  },
  {
   "cell_type": "code",
   "execution_count": null,
   "metadata": {},
   "outputs": [],
   "source": [
    "M = pd.read_csv(\"C:\\\\Users\\\\ricardo\\\\Desktop\\\\PropedeuticoCienciaDeDatos\\Bases\\\\TipoDeCambioCrisisVSEstable.csv\",dtype='str',encoding = \"ISO-8859-1\")\n",
    "M[[\"Serie 1\",\"Serie 2\"]] = M[[\"Serie 1\",\"Serie 2\"]].astype(float)\n",
    "M.head()"
   ]
  },
  {
   "cell_type": "markdown",
   "metadata": {},
   "source": [
    "# Cálculo de estadísticas"
   ]
  },
  {
   "cell_type": "code",
   "execution_count": null,
   "metadata": {},
   "outputs": [],
   "source": [
    "vn = M[\"Serie 1\"].tolist()\n",
    "vr = M[\"Serie 2\"].tolist()"
   ]
  },
  {
   "cell_type": "code",
   "execution_count": null,
   "metadata": {},
   "outputs": [],
   "source": [
    "#Cálculo media.\n",
    "m1 = np.mean(vn)\n",
    "m2 = np.mean(vr)\n",
    "#Cálculo mediana.\n",
    "med1 = np.median(vn)\n",
    "med2 = np.median(vr)\n",
    "#Cálculo desviación estándar.\n",
    "sd1 = np.std(vn)\n",
    "sd2 = np.std(vr)\n",
    "#Cálculo varianza.\n",
    "var1 = sd1**2.\n",
    "var2 = sd2**2.\n",
    "#Cálculo rango.\n",
    "R1 = max(vn) - min(vn)\n",
    "R2 = max(vr) - min(vr)\n",
    "#Cáculo percentiles\n",
    "p25_1 = np.percentile(vn,2.5) \n",
    "p975_1 = np.percentile(vn,97.5) \n",
    "p25_2 = np.percentile(vr,2.5) \n",
    "p975_2 = np.percentile(vr,97.5) "
   ]
  },
  {
   "cell_type": "markdown",
   "metadata": {},
   "source": [
    "# Impresión de resultados"
   ]
  },
  {
   "cell_type": "code",
   "execution_count": null,
   "metadata": {},
   "outputs": [],
   "source": [
    "print(\"Media: \" + \"%.6f\" %m1 + \" ----- \" + \"%.6f\" %m2)\n",
    "print(\"Mediana: \" + \"%.6f\" %med1 + \" ----- \" + \"%.6f\" %med2)\n",
    "print(\"Desviacion estandar: \" + \"%.6f\" %sd1 + \" ----- \" + \"%.6f\" %sd2)\n",
    "print(\"Varianza: \" + \"%.6f\" %var1 + \" ----- \" + \"%.6f\" %var2)\n",
    "print(\"Rango: \" + \"%.6f\" %R1 + \" ----- \" + \"%.6f\" %R2)\n",
    "print(\"Cuantil 0.025: \" + \"%.6f\" %p25_1 + \" ----- \" + \"%.6f\" %p25_2)\n",
    "print(\"Cuantil 0.975: \" + \"%.6f\" %p975_1 + \" ----- \" + \"%.6f\" %p975_2)"
   ]
  },
  {
   "cell_type": "code",
   "execution_count": null,
   "metadata": {},
   "outputs": [],
   "source": []
  }
 ],
 "metadata": {
  "kernelspec": {
   "display_name": "Python 3",
   "language": "python",
   "name": "python3"
  },
  "language_info": {
   "codemirror_mode": {
    "name": "ipython",
    "version": 3
   },
   "file_extension": ".py",
   "mimetype": "text/x-python",
   "name": "python",
   "nbconvert_exporter": "python",
   "pygments_lexer": "ipython3",
   "version": "3.11.2"
  }
 },
 "nbformat": 4,
 "nbformat_minor": 2
}
