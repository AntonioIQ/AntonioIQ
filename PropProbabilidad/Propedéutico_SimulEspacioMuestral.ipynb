{
 "cells": [
  {
   "cell_type": "code",
   "execution_count": 1,
   "metadata": {},
   "outputs": [],
   "source": [
    "import numpy as np\n",
    "import math\n",
    "import random\n",
    "import matplotlib.pyplot as plt"
   ]
  },
  {
   "cell_type": "markdown",
   "metadata": {},
   "source": [
    "# Ejemplo 1. Simulación del lanzamiento de una moneda"
   ]
  },
  {
   "cell_type": "code",
   "execution_count": 2,
   "metadata": {},
   "outputs": [],
   "source": [
    "N = 10\n",
    "vOmega = []\n",
    "for i in range(N):\n",
    "    #Lanzamiento moneda 1\n",
    "    x = np.random.rand() #Simula una variable aletoria uiforme entre 0 y 1\n",
    "    if x <= 0.5:\n",
    "        moneda1 = \"águila\"\n",
    "    else:\n",
    "        moneda1 = \"sol\"\n",
    "    volado = [moneda1]\n",
    "    vOmega.append(volado)"
   ]
  },
  {
   "cell_type": "code",
   "execution_count": 3,
   "metadata": {},
   "outputs": [
    {
     "name": "stdout",
     "output_type": "stream",
     "text": [
      "La probabilidad de obtener águila es igual a  0.6\n",
      "La probabilidad de obtener sol es igual a  0.4\n"
     ]
    }
   ],
   "source": [
    "#Cálculo de las probabilidades\n",
    "P_a, P_s = 0, 0\n",
    "for i in range(N):\n",
    "    volado = vOmega[i]\n",
    "    if volado[0] == \"águila\":\n",
    "        P_a = P_a + 1 \n",
    "    else:\n",
    "        P_s = P_s + 1\n",
    "print(\"La probabilidad de obtener águila es igual a \",P_a/N)\n",
    "print(\"La probabilidad de obtener sol es igual a \",P_s/N)"
   ]
  },
  {
   "cell_type": "markdown",
   "metadata": {},
   "source": [
    "# Ejemplo 2. Simulación del lanzamiento de dos monedas"
   ]
  },
  {
   "cell_type": "code",
   "execution_count": 4,
   "metadata": {},
   "outputs": [],
   "source": [
    "N = 10\n",
    "vOmega = []\n",
    "for i in range(N):\n",
    "    #Lanzamiento moneda 1\n",
    "    x = np.random.rand() #Simula una variable aletoria uiforme entre 0 y 1\n",
    "    if x <= 0.5:\n",
    "        moneda1 = \"águila\"\n",
    "    else:\n",
    "        moneda1 = \"sol\"\n",
    "    #lanzamiento moneda 2\n",
    "    x = np.random.rand() #Simula una variable aletoria uiforme entre 0 y 1\n",
    "    if x <= 0.5:\n",
    "        moneda2 = \"águila\"\n",
    "    else:\n",
    "        moneda2 = \"sol\"\n",
    "    volado = [moneda1,moneda2]\n",
    "    vOmega.append(volado)\n",
    "#vOmega"
   ]
  },
  {
   "cell_type": "code",
   "execution_count": 5,
   "metadata": {},
   "outputs": [
    {
     "name": "stdout",
     "output_type": "stream",
     "text": [
      "La probabilidad de obtener dos águilas es igual a 0.1\n",
      "La probabilidad de obtener dos soles igual a 0.3\n",
      "La probabilidad de obtener en la primer moneda águila y en la segunda sol es igual a 0.4\n",
      "La probabilidad de obtener en la primer moneda sol y en la segunda águila es igual  0.2\n"
     ]
    }
   ],
   "source": [
    "#Cálculo de las probabilidades\n",
    "P_aa, P_ss, P_as, P_sa = 0, 0, 0, 0\n",
    "for i in range(N):\n",
    "    volado = vOmega[i]\n",
    "    if volado[0] == \"águila\" and volado[1] == \"águila\":\n",
    "        P_aa = P_aa + 1\n",
    "    elif volado[0] == \"sol\" and volado[1] == \"sol\":\n",
    "        P_ss = P_ss + 1\n",
    "    elif volado[0] == \"águila\" and volado[1] == \"sol\":\n",
    "        P_as = P_as + 1\n",
    "    elif volado[0] == \"sol\" and volado[1] == \"águila\":\n",
    "        P_sa = P_sa + 1\n",
    "#Impersión de resultados\n",
    "print(\"La probabilidad de obtener dos águilas es igual a\",P_aa/N)\n",
    "print(\"La probabilidad de obtener dos soles igual a\",P_ss/N)\n",
    "print(\"La probabilidad de obtener en la primer moneda águila y en la segunda sol es igual a\",P_as/N)\n",
    "print(\"La probabilidad de obtener en la primer moneda sol y en la segunda águila es igual \",P_sa/N)"
   ]
  },
  {
   "cell_type": "markdown",
   "metadata": {},
   "source": [
    "# Ejemplo 3. Simulación de selección de elementos"
   ]
  },
  {
   "cell_type": "markdown",
   "metadata": {},
   "source": [
    "Una urna contiene 5 canicas, tres de color rojo y dos de color negro. Se selección dos canicas sin reemplazo, calcular la probabilidad de que sean de colores distintos."
   ]
  },
  {
   "cell_type": "code",
   "execution_count": 6,
   "metadata": {},
   "outputs": [
    {
     "name": "stdout",
     "output_type": "stream",
     "text": [
      "El primer elemento seleccionado es negro en el índice 3\n",
      "El vector, quitando el elemento seleecionado es\n",
      "['rojo', 'rojo', 'rojo', 'negro']\n",
      "El segundo elemento seleccionado es rojo\n"
     ]
    }
   ],
   "source": [
    "#Ejemplo.\n",
    "#1. Definición de un vector con las cinco canicas\n",
    "v_urna = [\"rojo\",\"rojo\",\"rojo\",\"negro\",\"negro\"]\n",
    "#2. Simulación de un número entero aleatorio entre 0 y 4 (simulación de la selección de la primer canica)\n",
    "i = random.randint(0,4)\n",
    "canica_1 = v_urna[i]\n",
    "print(\"El primer elemento seleccionado es\", canica_1, \"en el índice\", i)\n",
    "#3. Simulación de un número entero aleatorio entre 0 y 3 (simulación de la selección de la segunda canica, sin reemplazo)\n",
    "print(\"El vector, quitando el elemento seleecionado es\")\n",
    "v_urna.pop(i)\n",
    "print(v_urna)\n",
    "i = random.randint(0,3)\n",
    "canica_2 = v_urna[i]\n",
    "print(\"El segundo elemento seleccionado es\", canica_2)"
   ]
  },
  {
   "cell_type": "code",
   "execution_count": 7,
   "metadata": {},
   "outputs": [
    {
     "name": "stdout",
     "output_type": "stream",
     "text": [
      "La probabilidad de obtener dos canicas de diferente color es 0.601\n"
     ]
    }
   ],
   "source": [
    "#Simulación del caso particular\n",
    "N = 1000\n",
    "P = 0\n",
    "for j in range(N):\n",
    "    #1. Definición de un vector con las cinco canicas\n",
    "    v_urna = [\"rojo\",\"rojo\",\"rojo\",\"negro\",\"negro\"]\n",
    "    #2. Simulación de un número entero aleatorio entre 0 y 4 (simulación de la selección de la primer canica)\n",
    "    i = random.randint(0,4)\n",
    "    canica_1 = v_urna[i]\n",
    "    #3. Simulación de un número entero aleatorio entre 0 y 3 (simulación de la selección de la segunda canica, sin reemplazo)\n",
    "    v_urna.pop(i)\n",
    "    i = random.randint(0,3)\n",
    "    canica_2 = v_urna[i]\n",
    "    if canica_1 != canica_2:\n",
    "        P = P + 1\n",
    "print(\"La probabilidad de obtener dos canicas de diferente color es\", P/N)"
   ]
  },
  {
   "cell_type": "markdown",
   "metadata": {},
   "source": [
    "# Convergencia de la probabilidad"
   ]
  },
  {
   "cell_type": "markdown",
   "metadata": {},
   "source": [
    "# Lanzamiento de una moneda"
   ]
  },
  {
   "cell_type": "code",
   "execution_count": 8,
   "metadata": {},
   "outputs": [],
   "source": [
    "vN = [10,100,500,1000,5000,10000,50000,100000,500000,1000000]\n",
    "vP = []\n",
    "for N in vN:\n",
    "    vOmega = []\n",
    "    for i in range(N):\n",
    "        #Lanzamiento moneda 1\n",
    "        x = np.random.rand() #Simula una variable aletoria uiforme entre 0 y 1\n",
    "        if x <= 0.5:\n",
    "            moneda1 = \"águila\"\n",
    "        else:\n",
    "            moneda1 = \"sol\"\n",
    "        volado = [moneda1]\n",
    "        vOmega.append(volado)\n",
    "    #Cálculo de las probabilidades\n",
    "    P_a, P_s = 0, 0\n",
    "    for i in range(N):\n",
    "        volado = vOmega[i]\n",
    "        if volado[0] == \"águila\":\n",
    "            P_a = P_a + 1 \n",
    "        else:\n",
    "            P_s = P_s + 1\n",
    "    vP.append(P_a/N)"
   ]
  },
  {
   "cell_type": "code",
   "execution_count": 9,
   "metadata": {},
   "outputs": [
    {
     "data": {
      "image/png": "[encoded data removed]",
      "text/plain": [
       "<Figure size 800x300 with 1 Axes>"
      ]
     },
     "metadata": {},
     "output_type": "display_data"
    }
   ],
   "source": [
    "#Gráfica de resultados\n",
    "fig = plt.figure(figsize=(8.,3.))\n",
    "ax = fig.add_subplot(1,1,1)\n",
    "ax.set_title(\"Convergencia probabilidad\",fontsize=16,fontweight='bold')\n",
    "ax.plot(vN,vP,color=\"darkblue\",label=\"Probabilidad\")\n",
    "plt.axhline(y =0.5, color = 'red', ls= '--')\n",
    "plt.legend(loc=\"best\")\n",
    "plt.show()"
   ]
  },
  {
   "cell_type": "markdown",
   "metadata": {},
   "source": [
    "# Selección de canicas"
   ]
  },
  {
   "cell_type": "code",
   "execution_count": 10,
   "metadata": {},
   "outputs": [],
   "source": [
    "#Ciclo para el ejercicio anterior\n",
    "vN = [10,100,500,1000,5000,10000,50000,100000,500000,1000000]\n",
    "vP = []\n",
    "for N in vN:\n",
    "    P = 0\n",
    "    for j in range(N):\n",
    "        #1. Definición de un vector con las cinco canicas\n",
    "        v_urna = [\"rojo\",\"rojo\",\"rojo\",\"negro\",\"negro\"]\n",
    "        #2. Simulación de un número entero aleatorio entre 0 y 4 (simulación de la selección de la primer canica)\n",
    "        i = random.randint(0,4)\n",
    "        canica_1 = v_urna[i]\n",
    "        #3. Simulación de un número entero aleatorio entre 0 y 3 (simulación de la selección de la segunda canica, sin reemplazo)\n",
    "        v_urna.pop(i)\n",
    "        i = random.randint(0,3)\n",
    "        canica_2 = v_urna[i]\n",
    "        if canica_1 != canica_2:\n",
    "            P = P + 1\n",
    "    vP.append(P/N)"
   ]
  },
  {
   "cell_type": "code",
   "execution_count": 11,
   "metadata": {},
   "outputs": [
    {
     "data": {
      "image/png": "[encoded data removed]",
      "text/plain": [
       "<Figure size 800x300 with 1 Axes>"
      ]
     },
     "metadata": {},
     "output_type": "display_data"
    }
   ],
   "source": [
    "#Gráfica de resultados\n",
    "fig = plt.figure(figsize=(8.,3.))\n",
    "ax = fig.add_subplot(1,1,1)\n",
    "ax.set_title(\"Convergencia probabilidad\",fontsize=16,fontweight='bold')\n",
    "ax.plot(vN,vP,color=\"darkblue\",label=\"Probabilidad\")\n",
    "plt.axhline(y =0.6, color = 'red', ls= '--')\n",
    "plt.legend(loc=\"best\")\n",
    "plt.show()"
   ]
  },
  {
   "cell_type": "code",
   "execution_count": 12,
   "metadata": {},
   "outputs": [
    {
     "name": "stdout",
     "output_type": "stream",
     "text": [
      "La probabilidad es igual a  0.6\n"
     ]
    }
   ],
   "source": [
    "#El ejercicio anterior puede ser descrito por la siguiente fórmula\n",
    "Probabilidad = (math.comb(3,1)*math.comb(2,1))/math.comb(5,2)\n",
    "print(\"La probabilidad es igual a \",Probabilidad)"
   ]
  },
  {
   "cell_type": "code",
   "execution_count": null,
   "metadata": {},
   "outputs": [],
   "source": []
  }
 ],
 "metadata": {
  "kernelspec": {
   "display_name": "Python 3",
   "language": "python",
   "name": "python3"
  },
  "language_info": {
   "codemirror_mode": {
    "name": "ipython",
    "version": 3
   },
   "file_extension": ".py",
   "mimetype": "text/x-python",
   "name": "python",
   "nbconvert_exporter": "python",
   "pygments_lexer": "ipython3",
   "version": "3.11.2"
  }
 },
 "nbformat": 4,
 "nbformat_minor": 2
}
