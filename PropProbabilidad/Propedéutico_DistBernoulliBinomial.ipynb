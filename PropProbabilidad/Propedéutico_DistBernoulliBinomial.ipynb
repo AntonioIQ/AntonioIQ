{
 "cells": [
  {
   "cell_type": "code",
   "execution_count": 1,
   "metadata": {},
   "outputs": [],
   "source": [
    "import numpy as np\n",
    "import pandas as pd\n",
    "from datetime import datetime, timedelta\n",
    "import matplotlib.pyplot as plt\n",
    "from scipy import stats\n",
    "pd.set_option('display.max_columns',None)\n",
    "pd.set_option('display.max_rows',None)\n",
    "pd.options.display.float_format = \"{:,.5f}\".format\n",
    "import warnings\n",
    "warnings.filterwarnings('ignore')"
   ]
  },
  {
   "cell_type": "markdown",
   "metadata": {},
   "source": [
    "# Distribución Bernoulli"
   ]
  },
  {
   "cell_type": "code",
   "execution_count": 7,
   "metadata": {},
   "outputs": [
    {
     "data": {
      "text/plain": [
       "array([1, 0, 0, ..., 0, 0, 1], dtype=int64)"
      ]
     },
     "execution_count": 7,
     "metadata": {},
     "output_type": "execute_result"
    }
   ],
   "source": [
    "vB = stats.binom.rvs(1,0.3,size=10000)\n",
    "vB"
   ]
  },
  {
   "cell_type": "code",
   "execution_count": 9,
   "metadata": {},
   "outputs": [
    {
     "name": "stdout",
     "output_type": "stream",
     "text": [
      "La media es igual a  0.3056\n",
      "La varianza es igual a  0.21220864000000003\n"
     ]
    }
   ],
   "source": [
    "media = np.mean(vB)\n",
    "varianza = np.std(vB)**2\n",
    "print(\"La media es igual a \",media)\n",
    "print(\"La varianza es igual a \",varianza)"
   ]
  },
  {
   "cell_type": "markdown",
   "metadata": {},
   "source": [
    "# Distribución Binomial"
   ]
  },
  {
   "cell_type": "markdown",
   "metadata": {},
   "source": [
    "# Ejemplo 1. Se lanza una moneda justa 4 veces, calcular la probabilidad de obtener 3 soles y un águila"
   ]
  },
  {
   "cell_type": "code",
   "execution_count": 2,
   "metadata": {},
   "outputs": [
    {
     "name": "stdout",
     "output_type": "stream",
     "text": [
      "La probabilidad de obtener tres soles y un águila es igual a 0.25000000000000006\n"
     ]
    }
   ],
   "source": [
    "p = 1/2 #Probabilidad de éxito (sol)\n",
    "n = 4 #Número de veces que se repite el experimento Bernoulli.\n",
    "k = 3 #Número de éxitos requeridos\n",
    "Probabilidad = stats.binom.pmf(k, n, p)\n",
    "print(\"La probabilidad de obtener tres soles y un águila es igual a\",Probabilidad)"
   ]
  },
  {
   "cell_type": "markdown",
   "metadata": {},
   "source": [
    "# Ejercicio. Se lanza una moneda justa 5 veces, calcular la probabilidad de obtener más soles que águila"
   ]
  },
  {
   "cell_type": "code",
   "execution_count": 3,
   "metadata": {},
   "outputs": [
    {
     "name": "stdout",
     "output_type": "stream",
     "text": [
      "La probabilidad de obtener más soles que águilas es igual a 0.31250000000000006\n"
     ]
    }
   ],
   "source": [
    "p = 1/2 #Probabilidad de éxito (sol)\n",
    "n = 4 #Número de veces que se repite el experimento Bernoulli.\n",
    "k1, k2, k3 = 3, 4, 5 #Número de éxitos requeridos\n",
    "Probabilidad = stats.binom.pmf(k1, n, p) + stats.binom.pmf(k2, n, p) + stats.binom.pmf(k3, n, p)\n",
    "print(\"La probabilidad de obtener más soles que águilas es igual a\",Probabilidad)"
   ]
  },
  {
   "cell_type": "markdown",
   "metadata": {},
   "source": [
    "# Ejemplo. Se va a presentar un examen de 30 preguntas de opción múltiple. Cada pregunta tiene 4 posibles respuesas. Calcular la probabilidad de aprobar el examen sin estudiar."
   ]
  },
  {
   "cell_type": "code",
   "execution_count": 11,
   "metadata": {},
   "outputs": [
    {
     "name": "stdout",
     "output_type": "stream",
     "text": [
      "La probabilidad de aprobar el examen es igual a  0.000050\n",
      "El valor esperado del número de preguntas correctas es igual a  7.5\n",
      "La desviación estándar del número de respuestas correctas es igual  2.3717082451262845\n"
     ]
    }
   ],
   "source": [
    "p = 1/4\n",
    "n = 30\n",
    "vk = range(18,31)\n",
    "Prob = 0\n",
    "for k in vk:\n",
    "    Prob = Prob + stats.binom.pmf(k, n, p)\n",
    "print(\"La probabilidad de aprobar el examen es igual a \",\"{:.6f}\".format(Prob))\n",
    "print(\"El valor esperado del número de preguntas correctas es igual a \",n*p)\n",
    "print(\"La desviación estándar del número de respuestas correctas es igual \",np.sqrt(n*p*(1-p)))"
   ]
  },
  {
   "cell_type": "code",
   "execution_count": null,
   "metadata": {},
   "outputs": [],
   "source": []
  }
 ],
 "metadata": {
  "kernelspec": {
   "display_name": "Python 3",
   "language": "python",
   "name": "python3"
  },
  "language_info": {
   "codemirror_mode": {
    "name": "ipython",
    "version": 3
   },
   "file_extension": ".py",
   "mimetype": "text/x-python",
   "name": "python",
   "nbconvert_exporter": "python",
   "pygments_lexer": "ipython3",
   "version": "3.11.2"
  }
 },
 "nbformat": 4,
 "nbformat_minor": 2
}
