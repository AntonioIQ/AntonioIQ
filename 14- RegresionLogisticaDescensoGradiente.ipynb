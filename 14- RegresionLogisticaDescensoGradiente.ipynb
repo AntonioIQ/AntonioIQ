{
 "cells": [
  {
   "cell_type": "markdown",
   "metadata": {},
   "source": [
    "# Regresión logística"
   ]
  },
  {
   "cell_type": "code",
   "execution_count": 1,
   "metadata": {},
   "outputs": [],
   "source": [
    "import numpy as np\n",
    "import pandas as pd\n",
    "import matplotlib.pyplot as plt\n",
    "import scipy.stats as stats\n",
    "from math import exp, log\n",
    "from sklearn.metrics import confusion_matrix #pip install -U scikit-learn\n",
    "pd.set_option('display.max_columns',None)\n",
    "pd.set_option('display.max_rows',None)\n",
    "import warnings\n",
    "warnings.filterwarnings('ignore')"
   ]
  },
  {
   "cell_type": "markdown",
   "metadata": {},
   "source": [
    "# Ejemplo de regresión logística"
   ]
  },
  {
   "cell_type": "code",
   "execution_count": 2,
   "metadata": {},
   "outputs": [
    {
     "data": {
      "text/html": [
       "<div>\n",
       "<style scoped>\n",
       "    .dataframe tbody tr th:only-of-type {\n",
       "        vertical-align: middle;\n",
       "    }\n",
       "\n",
       "    .dataframe tbody tr th {\n",
       "        vertical-align: top;\n",
       "    }\n",
       "\n",
       "    .dataframe thead th {\n",
       "        text-align: right;\n",
       "    }\n",
       "</style>\n",
       "<table border=\"1\" class=\"dataframe\">\n",
       "  <thead>\n",
       "    <tr style=\"text-align: right;\">\n",
       "      <th></th>\n",
       "      <th>Y</th>\n",
       "      <th>X1</th>\n",
       "      <th>X2</th>\n",
       "      <th>X3</th>\n",
       "    </tr>\n",
       "  </thead>\n",
       "  <tbody>\n",
       "    <tr>\n",
       "      <th>0</th>\n",
       "      <td>1.0</td>\n",
       "      <td>0.825929</td>\n",
       "      <td>0.936133</td>\n",
       "      <td>0.385233</td>\n",
       "    </tr>\n",
       "    <tr>\n",
       "      <th>1</th>\n",
       "      <td>0.0</td>\n",
       "      <td>0.023315</td>\n",
       "      <td>0.362509</td>\n",
       "      <td>0.900775</td>\n",
       "    </tr>\n",
       "    <tr>\n",
       "      <th>2</th>\n",
       "      <td>0.0</td>\n",
       "      <td>0.363650</td>\n",
       "      <td>0.405652</td>\n",
       "      <td>0.196377</td>\n",
       "    </tr>\n",
       "    <tr>\n",
       "      <th>3</th>\n",
       "      <td>0.0</td>\n",
       "      <td>0.911445</td>\n",
       "      <td>0.011728</td>\n",
       "      <td>0.516514</td>\n",
       "    </tr>\n",
       "    <tr>\n",
       "      <th>4</th>\n",
       "      <td>0.0</td>\n",
       "      <td>0.330563</td>\n",
       "      <td>0.141189</td>\n",
       "      <td>0.762634</td>\n",
       "    </tr>\n",
       "  </tbody>\n",
       "</table>\n",
       "</div>"
      ],
      "text/plain": [
       "     Y        X1        X2        X3\n",
       "0  1.0  0.825929  0.936133  0.385233\n",
       "1  0.0  0.023315  0.362509  0.900775\n",
       "2  0.0  0.363650  0.405652  0.196377\n",
       "3  0.0  0.911445  0.011728  0.516514\n",
       "4  0.0  0.330563  0.141189  0.762634"
      ]
     },
     "execution_count": 2,
     "metadata": {},
     "output_type": "execute_result"
    }
   ],
   "source": [
    "M = pd.read_csv(\"C:\\\\Users\\\\ricardo\\\\Desktop\\\\PropedeuticoCienciaDeDatos\\\\Bases\\\\EjemploRegresionLogistica3D.csv\",dtype='str',encoding = \"ISO-8859-1\")\n",
    "M[[\"Y\",\"X1\",\"X2\",\"X3\"]] = M[[\"Y\",\"X1\",\"X2\",\"X3\"]].astype(float)\n",
    "M.head()"
   ]
  },
  {
   "cell_type": "markdown",
   "metadata": {},
   "source": [
    "# Estimación de coeficientes mediante descenso por gradiente"
   ]
  },
  {
   "cell_type": "code",
   "execution_count": 3,
   "metadata": {},
   "outputs": [
    {
     "data": {
      "text/html": [
       "<div>\n",
       "<style scoped>\n",
       "    .dataframe tbody tr th:only-of-type {\n",
       "        vertical-align: middle;\n",
       "    }\n",
       "\n",
       "    .dataframe tbody tr th {\n",
       "        vertical-align: top;\n",
       "    }\n",
       "\n",
       "    .dataframe thead th {\n",
       "        text-align: right;\n",
       "    }\n",
       "</style>\n",
       "<table border=\"1\" class=\"dataframe\">\n",
       "  <thead>\n",
       "    <tr style=\"text-align: right;\">\n",
       "      <th></th>\n",
       "      <th>X1</th>\n",
       "      <th>X2</th>\n",
       "      <th>X3</th>\n",
       "    </tr>\n",
       "  </thead>\n",
       "  <tbody>\n",
       "    <tr>\n",
       "      <th>0</th>\n",
       "      <td>0.825929</td>\n",
       "      <td>0.936133</td>\n",
       "      <td>0.385233</td>\n",
       "    </tr>\n",
       "    <tr>\n",
       "      <th>1</th>\n",
       "      <td>0.023315</td>\n",
       "      <td>0.362509</td>\n",
       "      <td>0.900775</td>\n",
       "    </tr>\n",
       "    <tr>\n",
       "      <th>2</th>\n",
       "      <td>0.363650</td>\n",
       "      <td>0.405652</td>\n",
       "      <td>0.196377</td>\n",
       "    </tr>\n",
       "    <tr>\n",
       "      <th>3</th>\n",
       "      <td>0.911445</td>\n",
       "      <td>0.011728</td>\n",
       "      <td>0.516514</td>\n",
       "    </tr>\n",
       "    <tr>\n",
       "      <th>4</th>\n",
       "      <td>0.330563</td>\n",
       "      <td>0.141189</td>\n",
       "      <td>0.762634</td>\n",
       "    </tr>\n",
       "  </tbody>\n",
       "</table>\n",
       "</div>"
      ],
      "text/plain": [
       "         X1        X2        X3\n",
       "0  0.825929  0.936133  0.385233\n",
       "1  0.023315  0.362509  0.900775\n",
       "2  0.363650  0.405652  0.196377\n",
       "3  0.911445  0.011728  0.516514\n",
       "4  0.330563  0.141189  0.762634"
      ]
     },
     "execution_count": 3,
     "metadata": {},
     "output_type": "execute_result"
    }
   ],
   "source": [
    "B = M[[\"X1\",\"X2\",\"X3\"]].copy(deep=True).reset_index(drop=True)\n",
    "B.head()"
   ]
  },
  {
   "cell_type": "code",
   "execution_count": 4,
   "metadata": {},
   "outputs": [
    {
     "data": {
      "text/plain": [
       "[1, 0.023314995, 0.362508566, 0.900775099]"
      ]
     },
     "execution_count": 4,
     "metadata": {},
     "output_type": "execute_result"
    }
   ],
   "source": [
    "B.iloc[1,:].tolist()\n",
    "vx = [1]\n",
    "vx.extend(B.iloc[1,:].tolist())\n",
    "vx"
   ]
  },
  {
   "cell_type": "code",
   "execution_count": 5,
   "metadata": {},
   "outputs": [
    {
     "name": "stdout",
     "output_type": "stream",
     "text": [
      "[-3.9991487619174664, 2.0008410289568244, 2.0008245808295677, 2.000601268282368]\n"
     ]
    }
   ],
   "source": [
    "def PasoGradiente(w0,y,x,l):\n",
    "    m = len(w0)\n",
    "    n = len(y)\n",
    "    vparcial = []\n",
    "    for i in range(m):\n",
    "        suma = 0\n",
    "        for j in range(n):\n",
    "            vx = [1]\n",
    "            vx.extend(x.iloc[j,:].tolist())\n",
    "            suma = suma + ( (1/(1+exp(-np.dot(w0,vx)))) - y[j] )*(vx[i])\n",
    "        vparcial.extend([suma/n])\n",
    "    w = []\n",
    "    for i in range(m):\n",
    "        w.extend([w0[i] - l*vparcial[i]])\n",
    "    return w\n",
    "#Ejemplo\n",
    "y = M[\"Y\"].tolist()\n",
    "x = M[[\"X1\",\"X2\",\"X3\"]].copy(deep=True).reset_index(drop=True)\n",
    "w0 = [-4,2,2,2] \n",
    "l = 0.01\n",
    "w = PasoGradiente(w0,y,x,l)\n",
    "print(w)    "
   ]
  },
  {
   "cell_type": "code",
   "execution_count": 6,
   "metadata": {},
   "outputs": [
    {
     "name": "stdout",
     "output_type": "stream",
     "text": [
      "0.3795631911471281\n"
     ]
    }
   ],
   "source": [
    "#Función de costo\n",
    "def FCosto(w,y,x):\n",
    "    n = len(y)\n",
    "    suma = 0\n",
    "    for j in range(n):\n",
    "        vx = [1]\n",
    "        vx.extend(x.iloc[j,:].tolist())\n",
    "        suma = suma + y[j]*log(1/(1+exp(-np.dot(w,vx)))) + (1-y[j])*log(1 - 1/(1+exp(-np.dot(w,vx))))\n",
    "    suma = (-1/n)*suma\n",
    "    return suma\n",
    "#Ejemplo\n",
    "y = M[\"Y\"].tolist()\n",
    "x = M[[\"X1\",\"X2\",\"X3\"]].copy(deep=True).reset_index(drop=True)\n",
    "w = [-4,3,3,3] \n",
    "C = FCosto(w,y,x)\n",
    "print(C) "
   ]
  },
  {
   "cell_type": "code",
   "execution_count": 7,
   "metadata": {},
   "outputs": [
    {
     "name": "stdout",
     "output_type": "stream",
     "text": [
      "0 ->100 ->200 ->300 ->400 ->500 ->600 ->700 ->800 ->900 ->\n",
      "[-4.69479384273113, 2.9582829356828797, 2.9128661947873384, 2.784342720748337]\n"
     ]
    }
   ],
   "source": [
    "#Iteración de gradiente\n",
    "N = 1000\n",
    "y = M[\"Y\"].tolist()\n",
    "x = M[[\"X1\",\"X2\",\"X3\"]].copy(deep=True).reset_index(drop=True)\n",
    "l = 0.01\n",
    "w0 = [-4,3,3,3] \n",
    "vC = []\n",
    "for i in range(N):\n",
    "    if i % 100 == 0:\n",
    "        print(i,\"->\",end=\"\")\n",
    "    w = PasoGradiente(w0,y,x,l)\n",
    "    vC.extend([FCosto(w,y,x)])\n",
    "    w0 = w\n",
    "print()\n",
    "print(w)"
   ]
  },
  {
   "cell_type": "code",
   "execution_count": 8,
   "metadata": {},
   "outputs": [
    {
     "data": {
      "image/png": "[encoded data removed]",
      "text/plain": [
       "<Figure size 400x300 with 1 Axes>"
      ]
     },
     "metadata": {},
     "output_type": "display_data"
    }
   ],
   "source": [
    "#Gráfica función de costo\n",
    "fig = plt.figure(figsize=(4,3))\n",
    "plt.title(\"Función de Costo\")\n",
    "plt.plot(range(len(vC)),vC,color=\"darkblue\")\n",
    "plt.xlabel('Iteración')\n",
    "plt.show()"
   ]
  },
  {
   "cell_type": "code",
   "execution_count": 9,
   "metadata": {},
   "outputs": [
    {
     "data": {
      "text/html": [
       "<div>\n",
       "<style scoped>\n",
       "    .dataframe tbody tr th:only-of-type {\n",
       "        vertical-align: middle;\n",
       "    }\n",
       "\n",
       "    .dataframe tbody tr th {\n",
       "        vertical-align: top;\n",
       "    }\n",
       "\n",
       "    .dataframe thead th {\n",
       "        text-align: right;\n",
       "    }\n",
       "</style>\n",
       "<table border=\"1\" class=\"dataframe\">\n",
       "  <thead>\n",
       "    <tr style=\"text-align: right;\">\n",
       "      <th></th>\n",
       "      <th>X1</th>\n",
       "      <th>X2</th>\n",
       "      <th>X3</th>\n",
       "      <th>Y_aprox_1</th>\n",
       "      <th>Y_aprox_2</th>\n",
       "      <th>Y_aprox</th>\n",
       "    </tr>\n",
       "  </thead>\n",
       "  <tbody>\n",
       "    <tr>\n",
       "      <th>0</th>\n",
       "      <td>0.825929</td>\n",
       "      <td>0.936133</td>\n",
       "      <td>0.385233</td>\n",
       "      <td>1.547990</td>\n",
       "      <td>0.824623</td>\n",
       "      <td>1</td>\n",
       "    </tr>\n",
       "    <tr>\n",
       "      <th>1</th>\n",
       "      <td>0.023315</td>\n",
       "      <td>0.362509</td>\n",
       "      <td>0.900775</td>\n",
       "      <td>-1.061816</td>\n",
       "      <td>0.256963</td>\n",
       "      <td>0</td>\n",
       "    </tr>\n",
       "    <tr>\n",
       "      <th>2</th>\n",
       "      <td>0.363650</td>\n",
       "      <td>0.405652</td>\n",
       "      <td>0.196377</td>\n",
       "      <td>-1.890623</td>\n",
       "      <td>0.131173</td>\n",
       "      <td>0</td>\n",
       "    </tr>\n",
       "    <tr>\n",
       "      <th>3</th>\n",
       "      <td>0.911445</td>\n",
       "      <td>0.011728</td>\n",
       "      <td>0.516514</td>\n",
       "      <td>-0.526167</td>\n",
       "      <td>0.371411</td>\n",
       "      <td>0</td>\n",
       "    </tr>\n",
       "    <tr>\n",
       "      <th>4</th>\n",
       "      <td>0.330563</td>\n",
       "      <td>0.141189</td>\n",
       "      <td>0.762634</td>\n",
       "      <td>-1.182198</td>\n",
       "      <td>0.234657</td>\n",
       "      <td>0</td>\n",
       "    </tr>\n",
       "  </tbody>\n",
       "</table>\n",
       "</div>"
      ],
      "text/plain": [
       "         X1        X2        X3  Y_aprox_1  Y_aprox_2  Y_aprox\n",
       "0  0.825929  0.936133  0.385233   1.547990   0.824623        1\n",
       "1  0.023315  0.362509  0.900775  -1.061816   0.256963        0\n",
       "2  0.363650  0.405652  0.196377  -1.890623   0.131173        0\n",
       "3  0.911445  0.011728  0.516514  -0.526167   0.371411        0\n",
       "4  0.330563  0.141189  0.762634  -1.182198   0.234657        0"
      ]
     },
     "execution_count": 9,
     "metadata": {},
     "output_type": "execute_result"
    }
   ],
   "source": [
    "#Comparativo base\n",
    "def Etiqueta(x):\n",
    "    if x.Y_aprox_2 >= 0.5:\n",
    "        resp = 1\n",
    "    else:\n",
    "        resp = 0\n",
    "    return resp\n",
    "B[\"Y_aprox_1\"] = w[0] + w[1]*B[\"X1\"] + w[2]*B[\"X2\"] + w[3]*B[\"X3\"]\n",
    "B[\"Y_aprox_2\"] = 1/(1+np.exp(-B[\"Y_aprox_1\"] ))\n",
    "B[\"Y_aprox\"] = B.apply(lambda x: Etiqueta(x),axis=1)\n",
    "B.head()"
   ]
  },
  {
   "cell_type": "code",
   "execution_count": 10,
   "metadata": {},
   "outputs": [
    {
     "name": "stdout",
     "output_type": "stream",
     "text": [
      "[1, 0, 0, 0, 0, 0, 0, 1, 1, 1, 0, 0, 1, 0, 0, 1, 1, 0, 0, 1, 1, 1, 0, 0, 0, 0, 1, 0, 1, 0, 1, 0, 0, 0, 0, 1, 1, 0, 0, 1, 1, 0, 0, 0, 0, 1, 0, 0, 1, 0, 0, 0, 0, 0, 0, 0, 0, 0, 1, 0, 0, 0, 0, 1, 0, 0, 1, 1, 0, 1, 1, 0, 1, 0, 0, 0, 0, 0, 1, 0, 1, 1, 0, 0, 0, 0, 1, 0, 1, 0, 0, 0, 0, 0, 0, 0, 0, 0, 0, 1]\n"
     ]
    }
   ],
   "source": [
    "print(B[\"Y_aprox\"].tolist())"
   ]
  },
  {
   "cell_type": "code",
   "execution_count": 11,
   "metadata": {},
   "outputs": [
    {
     "data": {
      "text/plain": [
       "array([1., 0., 0., 0., 0., 0., 0., 1., 1., 1., 0., 0., 1., 0., 0., 1., 1.,\n",
       "       0., 0., 1., 1., 1., 0., 0., 0., 0., 1., 0., 1., 0., 1., 1., 0., 0.,\n",
       "       0., 1., 1., 0., 0., 1., 1., 0., 1., 0., 0., 1., 0., 0., 1., 0., 0.,\n",
       "       0., 0., 0., 0., 0., 1., 0., 1., 0., 0., 0., 0., 1., 1., 0., 1., 1.,\n",
       "       0., 1., 1., 0., 1., 0., 0., 0., 0., 0., 1., 0., 1., 1., 0., 0., 0.,\n",
       "       0., 1., 0., 1., 0., 0., 0., 0., 0., 0., 0., 0., 0., 0., 1.])"
      ]
     },
     "execution_count": 11,
     "metadata": {},
     "output_type": "execute_result"
    }
   ],
   "source": [
    "np.array(M[\"Y\"].tolist())"
   ]
  },
  {
   "cell_type": "code",
   "execution_count": 12,
   "metadata": {},
   "outputs": [
    {
     "name": "stdout",
     "output_type": "stream",
     "text": [
      "El número de errores es igual a 4\n"
     ]
    }
   ],
   "source": [
    "#Determinación del error\n",
    "y_real = np.array(M[\"Y\"].tolist())\n",
    "y_aprox = B[\"Y_aprox\"].tolist()\n",
    "n = len(y_real)\n",
    "Error = 0\n",
    "for i in range(n):\n",
    "    if y_real[i] != y_aprox[i]:\n",
    "        Error = Error + 1\n",
    "print(\"El número de errores es igual a\",Error)"
   ]
  },
  {
   "cell_type": "markdown",
   "metadata": {},
   "source": [
    "# Regresión logística mediante librería de Python"
   ]
  },
  {
   "cell_type": "code",
   "execution_count": 13,
   "metadata": {},
   "outputs": [
    {
     "data": {
      "text/plain": [
       "array([1., 0., 0., 0., 0., 0., 0., 1., 1., 1., 0., 0., 0., 0., 0., 1., 1.,\n",
       "       0., 0., 0., 1., 1., 0., 0., 0., 0., 1., 0., 1., 0., 1., 0., 0., 0.,\n",
       "       0., 1., 1., 0., 0., 1., 0., 0., 0., 0., 0., 1., 0., 0., 1., 0., 0.,\n",
       "       0., 0., 0., 0., 0., 0., 0., 0., 0., 0., 0., 0., 1., 0., 0., 0., 1.,\n",
       "       0., 1., 1., 0., 1., 0., 0., 0., 0., 0., 1., 0., 1., 1., 0., 0., 0.,\n",
       "       0., 1., 0., 1., 0., 0., 0., 0., 0., 0., 0., 0., 0., 0., 1.])"
      ]
     },
     "execution_count": 13,
     "metadata": {},
     "output_type": "execute_result"
    }
   ],
   "source": [
    "#Regresión logística\n",
    "from sklearn.linear_model import LogisticRegression\n",
    "LR = LogisticRegression()\n",
    "LR.fit(M[[\"X1\",\"X2\",\"X3\"]], M[[\"Y\"]])\n",
    "LR.predict(M[[\"X1\",\"X2\",\"X3\"]])"
   ]
  },
  {
   "cell_type": "code",
   "execution_count": 14,
   "metadata": {},
   "outputs": [
    {
     "name": "stdout",
     "output_type": "stream",
     "text": [
      "[[2.87260097 2.72810274 2.05458717]]\n",
      "[-4.37618965]\n"
     ]
    }
   ],
   "source": [
    "print(LR.coef_)\n",
    "print(LR.intercept_)"
   ]
  },
  {
   "cell_type": "code",
   "execution_count": 15,
   "metadata": {},
   "outputs": [
    {
     "data": {
      "text/html": [
       "<div>\n",
       "<style scoped>\n",
       "    .dataframe tbody tr th:only-of-type {\n",
       "        vertical-align: middle;\n",
       "    }\n",
       "\n",
       "    .dataframe tbody tr th {\n",
       "        vertical-align: top;\n",
       "    }\n",
       "\n",
       "    .dataframe thead th {\n",
       "        text-align: right;\n",
       "    }\n",
       "</style>\n",
       "<table border=\"1\" class=\"dataframe\">\n",
       "  <thead>\n",
       "    <tr style=\"text-align: right;\">\n",
       "      <th></th>\n",
       "      <th>Y</th>\n",
       "      <th>X1</th>\n",
       "      <th>X2</th>\n",
       "      <th>X3</th>\n",
       "      <th>Y_aprox_1</th>\n",
       "      <th>Y_aprox_2</th>\n",
       "    </tr>\n",
       "  </thead>\n",
       "  <tbody>\n",
       "    <tr>\n",
       "      <th>0</th>\n",
       "      <td>1.0</td>\n",
       "      <td>0.825929</td>\n",
       "      <td>0.936133</td>\n",
       "      <td>0.385233</td>\n",
       "      <td>1.341737</td>\n",
       "      <td>0.792776</td>\n",
       "    </tr>\n",
       "    <tr>\n",
       "      <th>1</th>\n",
       "      <td>0.0</td>\n",
       "      <td>0.023315</td>\n",
       "      <td>0.362509</td>\n",
       "      <td>0.900775</td>\n",
       "      <td>-1.469533</td>\n",
       "      <td>0.187014</td>\n",
       "    </tr>\n",
       "    <tr>\n",
       "      <th>2</th>\n",
       "      <td>0.0</td>\n",
       "      <td>0.363650</td>\n",
       "      <td>0.405652</td>\n",
       "      <td>0.196377</td>\n",
       "      <td>-1.821434</td>\n",
       "      <td>0.139262</td>\n",
       "    </tr>\n",
       "    <tr>\n",
       "      <th>3</th>\n",
       "      <td>0.0</td>\n",
       "      <td>0.911445</td>\n",
       "      <td>0.011728</td>\n",
       "      <td>0.516514</td>\n",
       "      <td>-0.664753</td>\n",
       "      <td>0.339673</td>\n",
       "    </tr>\n",
       "    <tr>\n",
       "      <th>4</th>\n",
       "      <td>0.0</td>\n",
       "      <td>0.330563</td>\n",
       "      <td>0.141189</td>\n",
       "      <td>0.762634</td>\n",
       "      <td>-1.474540</td>\n",
       "      <td>0.186254</td>\n",
       "    </tr>\n",
       "  </tbody>\n",
       "</table>\n",
       "</div>"
      ],
      "text/plain": [
       "     Y        X1        X2        X3  Y_aprox_1  Y_aprox_2\n",
       "0  1.0  0.825929  0.936133  0.385233   1.341737   0.792776\n",
       "1  0.0  0.023315  0.362509  0.900775  -1.469533   0.187014\n",
       "2  0.0  0.363650  0.405652  0.196377  -1.821434   0.139262\n",
       "3  0.0  0.911445  0.011728  0.516514  -0.664753   0.339673\n",
       "4  0.0  0.330563  0.141189  0.762634  -1.474540   0.186254"
      ]
     },
     "execution_count": 15,
     "metadata": {},
     "output_type": "execute_result"
    }
   ],
   "source": [
    "M[\"Y_aprox_1\"] = LR.intercept_[0] + LR.coef_[0][0]*M[\"X1\"] + LR.coef_[0][1]*M[\"X2\"] + LR.coef_[0][2]*M[\"X3\"]\n",
    "M[\"Y_aprox_2\"] = 1/(1+np.exp(-M[\"Y_aprox_1\"] ))\n",
    "M.head()"
   ]
  },
  {
   "cell_type": "code",
   "execution_count": 16,
   "metadata": {},
   "outputs": [
    {
     "data": {
      "text/html": [
       "<div>\n",
       "<style scoped>\n",
       "    .dataframe tbody tr th:only-of-type {\n",
       "        vertical-align: middle;\n",
       "    }\n",
       "\n",
       "    .dataframe tbody tr th {\n",
       "        vertical-align: top;\n",
       "    }\n",
       "\n",
       "    .dataframe thead th {\n",
       "        text-align: right;\n",
       "    }\n",
       "</style>\n",
       "<table border=\"1\" class=\"dataframe\">\n",
       "  <thead>\n",
       "    <tr style=\"text-align: right;\">\n",
       "      <th></th>\n",
       "      <th>Y</th>\n",
       "      <th>X1</th>\n",
       "      <th>X2</th>\n",
       "      <th>X3</th>\n",
       "      <th>Y_aprox_1</th>\n",
       "      <th>Y_aprox_2</th>\n",
       "      <th>Y_aprox</th>\n",
       "    </tr>\n",
       "  </thead>\n",
       "  <tbody>\n",
       "    <tr>\n",
       "      <th>0</th>\n",
       "      <td>1.0</td>\n",
       "      <td>0.825929</td>\n",
       "      <td>0.936133</td>\n",
       "      <td>0.385233</td>\n",
       "      <td>1.341737</td>\n",
       "      <td>0.792776</td>\n",
       "      <td>1</td>\n",
       "    </tr>\n",
       "    <tr>\n",
       "      <th>1</th>\n",
       "      <td>0.0</td>\n",
       "      <td>0.023315</td>\n",
       "      <td>0.362509</td>\n",
       "      <td>0.900775</td>\n",
       "      <td>-1.469533</td>\n",
       "      <td>0.187014</td>\n",
       "      <td>0</td>\n",
       "    </tr>\n",
       "    <tr>\n",
       "      <th>2</th>\n",
       "      <td>0.0</td>\n",
       "      <td>0.363650</td>\n",
       "      <td>0.405652</td>\n",
       "      <td>0.196377</td>\n",
       "      <td>-1.821434</td>\n",
       "      <td>0.139262</td>\n",
       "      <td>0</td>\n",
       "    </tr>\n",
       "    <tr>\n",
       "      <th>3</th>\n",
       "      <td>0.0</td>\n",
       "      <td>0.911445</td>\n",
       "      <td>0.011728</td>\n",
       "      <td>0.516514</td>\n",
       "      <td>-0.664753</td>\n",
       "      <td>0.339673</td>\n",
       "      <td>0</td>\n",
       "    </tr>\n",
       "    <tr>\n",
       "      <th>4</th>\n",
       "      <td>0.0</td>\n",
       "      <td>0.330563</td>\n",
       "      <td>0.141189</td>\n",
       "      <td>0.762634</td>\n",
       "      <td>-1.474540</td>\n",
       "      <td>0.186254</td>\n",
       "      <td>0</td>\n",
       "    </tr>\n",
       "  </tbody>\n",
       "</table>\n",
       "</div>"
      ],
      "text/plain": [
       "     Y        X1        X2        X3  Y_aprox_1  Y_aprox_2  Y_aprox\n",
       "0  1.0  0.825929  0.936133  0.385233   1.341737   0.792776        1\n",
       "1  0.0  0.023315  0.362509  0.900775  -1.469533   0.187014        0\n",
       "2  0.0  0.363650  0.405652  0.196377  -1.821434   0.139262        0\n",
       "3  0.0  0.911445  0.011728  0.516514  -0.664753   0.339673        0\n",
       "4  0.0  0.330563  0.141189  0.762634  -1.474540   0.186254        0"
      ]
     },
     "execution_count": 16,
     "metadata": {},
     "output_type": "execute_result"
    }
   ],
   "source": [
    "def Etiqueta(x):\n",
    "    if x.Y_aprox_2 >= 0.5:\n",
    "        resp = 1\n",
    "    else:\n",
    "        resp = 0\n",
    "    return resp\n",
    "M[\"Y_aprox\"] = M.apply(lambda x: Etiqueta(x),axis=1)\n",
    "M.head()"
   ]
  },
  {
   "cell_type": "code",
   "execution_count": 17,
   "metadata": {},
   "outputs": [
    {
     "name": "stdout",
     "output_type": "stream",
     "text": [
      "[1, 0, 0, 0, 0, 0, 0, 1, 1, 1, 0, 0, 0, 0, 0, 1, 1, 0, 0, 0, 1, 1, 0, 0, 0, 0, 1, 0, 1, 0, 1, 0, 0, 0, 0, 1, 1, 0, 0, 1, 0, 0, 0, 0, 0, 1, 0, 0, 1, 0, 0, 0, 0, 0, 0, 0, 0, 0, 0, 0, 0, 0, 0, 1, 0, 0, 0, 1, 0, 1, 1, 0, 1, 0, 0, 0, 0, 0, 1, 0, 1, 1, 0, 0, 0, 0, 1, 0, 1, 0, 0, 0, 0, 0, 0, 0, 0, 0, 0, 1]\n"
     ]
    }
   ],
   "source": [
    "print(M[\"Y_aprox\"].tolist())"
   ]
  },
  {
   "cell_type": "code",
   "execution_count": 18,
   "metadata": {},
   "outputs": [
    {
     "name": "stdout",
     "output_type": "stream",
     "text": [
      "[1. 0. 0. 0. 0. 0. 0. 1. 1. 1. 0. 0. 0. 0. 0. 1. 1. 0. 0. 0. 1. 1. 0. 0.\n",
      " 0. 0. 1. 0. 1. 0. 1. 0. 0. 0. 0. 1. 1. 0. 0. 1. 0. 0. 0. 0. 0. 1. 0. 0.\n",
      " 1. 0. 0. 0. 0. 0. 0. 0. 0. 0. 0. 0. 0. 0. 0. 1. 0. 0. 0. 1. 0. 1. 1. 0.\n",
      " 1. 0. 0. 0. 0. 0. 1. 0. 1. 1. 0. 0. 0. 0. 1. 0. 1. 0. 0. 0. 0. 0. 0. 0.\n",
      " 0. 0. 0. 1.]\n"
     ]
    }
   ],
   "source": [
    "y_pred = LR.predict(M[[\"X1\",\"X2\",\"X3\"]])\n",
    "print(y_pred)"
   ]
  },
  {
   "cell_type": "code",
   "execution_count": 19,
   "metadata": {},
   "outputs": [
    {
     "data": {
      "text/plain": [
       "array([1., 0., 0., 0., 0., 0., 0., 1., 1., 1., 0., 0., 1., 0., 0., 1., 1.,\n",
       "       0., 0., 1., 1., 1., 0., 0., 0., 0., 1., 0., 1., 0., 1., 1., 0., 0.,\n",
       "       0., 1., 1., 0., 0., 1., 1., 0., 1., 0., 0., 1., 0., 0., 1., 0., 0.,\n",
       "       0., 0., 0., 0., 0., 1., 0., 1., 0., 0., 0., 0., 1., 1., 0., 1., 1.,\n",
       "       0., 1., 1., 0., 1., 0., 0., 0., 0., 0., 1., 0., 1., 1., 0., 0., 0.,\n",
       "       0., 1., 0., 1., 0., 0., 0., 0., 0., 0., 0., 0., 0., 0., 1.])"
      ]
     },
     "execution_count": 19,
     "metadata": {},
     "output_type": "execute_result"
    }
   ],
   "source": [
    "np.array(M[\"Y\"].tolist())"
   ]
  },
  {
   "cell_type": "code",
   "execution_count": 20,
   "metadata": {},
   "outputs": [
    {
     "data": {
      "text/plain": [
       "array([[73,  0],\n",
       "       [ 0, 27]], dtype=int64)"
      ]
     },
     "execution_count": 20,
     "metadata": {},
     "output_type": "execute_result"
    }
   ],
   "source": [
    "confusion_matrix(M[\"Y_aprox\"], y_pred)"
   ]
  },
  {
   "cell_type": "code",
   "execution_count": 21,
   "metadata": {},
   "outputs": [
    {
     "data": {
      "text/plain": [
       "array([[64,  0],\n",
       "       [ 9, 27]], dtype=int64)"
      ]
     },
     "execution_count": 21,
     "metadata": {},
     "output_type": "execute_result"
    }
   ],
   "source": [
    "confusion_matrix(M[\"Y\"], y_pred)"
   ]
  },
  {
   "cell_type": "code",
   "execution_count": 22,
   "metadata": {},
   "outputs": [
    {
     "data": {
      "text/plain": [
       "<Figure size 200x200 with 0 Axes>"
      ]
     },
     "metadata": {},
     "output_type": "display_data"
    },
    {
     "data": {
      "image/png": "[encoded data removed]",
      "text/plain": [
       "<Figure size 480x480 with 2 Axes>"
      ]
     },
     "metadata": {},
     "output_type": "display_data"
    }
   ],
   "source": [
    "#Gráfica de matriz de confusión\n",
    "fig = plt.figure(figsize=(2,2))\n",
    "plt.matshow(confusion_matrix(M[\"Y\"].tolist(), y_pred)) #https://matplotlib.org/stable/gallery/images_contours_and_fields/matshow.html#sphx-glr-gallery-images-contours-and-fields-matshow-py\n",
    "plt.title('Matriz de confusión')\n",
    "plt.colorbar()\n",
    "plt.ylabel('Etiqueta verdadera')\n",
    "plt.xlabel('Etiqueta predicción')\n",
    "for (i, j), z in np.ndenumerate(confusion_matrix(M[\"Y\"].tolist(), y_pred)):\n",
    "    plt.text(j, i, '{:0.1f}'.format(z), ha='center', va='center')\n",
    "plt.show()"
   ]
  },
  {
   "cell_type": "markdown",
   "metadata": {},
   "source": [
    "# Ejercicio. Con base en el archivo \"EjemploTarjetasBanco.csv\" determine que tarjeta se le asinaría a una persona con una edad de 45 años, un salario de 35,000 pesos mensuales y una antigüedad en el banco de 4 años."
   ]
  },
  {
   "cell_type": "code",
   "execution_count": 23,
   "metadata": {},
   "outputs": [
    {
     "data": {
      "text/html": [
       "<div>\n",
       "<style scoped>\n",
       "    .dataframe tbody tr th:only-of-type {\n",
       "        vertical-align: middle;\n",
       "    }\n",
       "\n",
       "    .dataframe tbody tr th {\n",
       "        vertical-align: top;\n",
       "    }\n",
       "\n",
       "    .dataframe thead th {\n",
       "        text-align: right;\n",
       "    }\n",
       "</style>\n",
       "<table border=\"1\" class=\"dataframe\">\n",
       "  <thead>\n",
       "    <tr style=\"text-align: right;\">\n",
       "      <th></th>\n",
       "      <th>Y</th>\n",
       "      <th>Edad</th>\n",
       "      <th>Salario</th>\n",
       "      <th>Antiguedad</th>\n",
       "    </tr>\n",
       "  </thead>\n",
       "  <tbody>\n",
       "    <tr>\n",
       "      <th>0</th>\n",
       "      <td>Platino</td>\n",
       "      <td>46</td>\n",
       "      <td>55354</td>\n",
       "      <td>14</td>\n",
       "    </tr>\n",
       "  </tbody>\n",
       "</table>\n",
       "</div>"
      ],
      "text/plain": [
       "         Y Edad Salario Antiguedad\n",
       "0  Platino   46   55354         14"
      ]
     },
     "execution_count": 23,
     "metadata": {},
     "output_type": "execute_result"
    }
   ],
   "source": [
    "M = pd.read_csv(\"C:\\\\Users\\\\ricardo\\\\Desktop\\\\PropedeuticoCienciaDeDatos\\\\Bases\\\\EjemploTarjetasBanco.csv\",dtype='str',encoding = \"ISO-8859-1\")\n",
    "M.head(1)"
   ]
  },
  {
   "cell_type": "code",
   "execution_count": 24,
   "metadata": {},
   "outputs": [],
   "source": [
    "M[[\"Edad\",\"Salario\",\"Antiguedad\"]] = M[[\"Edad\",\"Salario\",\"Antiguedad\"]].astype(float)"
   ]
  },
  {
   "cell_type": "code",
   "execution_count": 25,
   "metadata": {},
   "outputs": [
    {
     "data": {
      "text/html": [
       "<style>#sk-container-id-1 {color: black;background-color: white;}#sk-container-id-1 pre{padding: 0;}#sk-container-id-1 div.sk-toggleable {background-color: white;}#sk-container-id-1 label.sk-toggleable__label {cursor: pointer;display: block;width: 100%;margin-bottom: 0;padding: 0.3em;box-sizing: border-box;text-align: center;}#sk-container-id-1 label.sk-toggleable__label-arrow:before {content: \"▸\";float: left;margin-right: 0.25em;color: #696969;}#sk-container-id-1 label.sk-toggleable__label-arrow:hover:before {color: black;}#sk-container-id-1 div.sk-estimator:hover label.sk-toggleable__label-arrow:before {color: black;}#sk-container-id-1 div.sk-toggleable__content {max-height: 0;max-width: 0;overflow: hidden;text-align: left;background-color: #f0f8ff;}#sk-container-id-1 div.sk-toggleable__content pre {margin: 0.2em;color: black;border-radius: 0.25em;background-color: #f0f8ff;}#sk-container-id-1 input.sk-toggleable__control:checked~div.sk-toggleable__content {max-height: 200px;max-width: 100%;overflow: auto;}#sk-container-id-1 input.sk-toggleable__control:checked~label.sk-toggleable__label-arrow:before {content: \"▾\";}#sk-container-id-1 div.sk-estimator input.sk-toggleable__control:checked~label.sk-toggleable__label {background-color: #d4ebff;}#sk-container-id-1 div.sk-label input.sk-toggleable__control:checked~label.sk-toggleable__label {background-color: #d4ebff;}#sk-container-id-1 input.sk-hidden--visually {border: 0;clip: rect(1px 1px 1px 1px);clip: rect(1px, 1px, 1px, 1px);height: 1px;margin: -1px;overflow: hidden;padding: 0;position: absolute;width: 1px;}#sk-container-id-1 div.sk-estimator {font-family: monospace;background-color: #f0f8ff;border: 1px dotted black;border-radius: 0.25em;box-sizing: border-box;margin-bottom: 0.5em;}#sk-container-id-1 div.sk-estimator:hover {background-color: #d4ebff;}#sk-container-id-1 div.sk-parallel-item::after {content: \"\";width: 100%;border-bottom: 1px solid gray;flex-grow: 1;}#sk-container-id-1 div.sk-label:hover label.sk-toggleable__label {background-color: #d4ebff;}#sk-container-id-1 div.sk-serial::before {content: \"\";position: absolute;border-left: 1px solid gray;box-sizing: border-box;top: 0;bottom: 0;left: 50%;z-index: 0;}#sk-container-id-1 div.sk-serial {display: flex;flex-direction: column;align-items: center;background-color: white;padding-right: 0.2em;padding-left: 0.2em;position: relative;}#sk-container-id-1 div.sk-item {position: relative;z-index: 1;}#sk-container-id-1 div.sk-parallel {display: flex;align-items: stretch;justify-content: center;background-color: white;position: relative;}#sk-container-id-1 div.sk-item::before, #sk-container-id-1 div.sk-parallel-item::before {content: \"\";position: absolute;border-left: 1px solid gray;box-sizing: border-box;top: 0;bottom: 0;left: 50%;z-index: -1;}#sk-container-id-1 div.sk-parallel-item {display: flex;flex-direction: column;z-index: 1;position: relative;background-color: white;}#sk-container-id-1 div.sk-parallel-item:first-child::after {align-self: flex-end;width: 50%;}#sk-container-id-1 div.sk-parallel-item:last-child::after {align-self: flex-start;width: 50%;}#sk-container-id-1 div.sk-parallel-item:only-child::after {width: 0;}#sk-container-id-1 div.sk-dashed-wrapped {border: 1px dashed gray;margin: 0 0.4em 0.5em 0.4em;box-sizing: border-box;padding-bottom: 0.4em;background-color: white;}#sk-container-id-1 div.sk-label label {font-family: monospace;font-weight: bold;display: inline-block;line-height: 1.2em;}#sk-container-id-1 div.sk-label-container {text-align: center;}#sk-container-id-1 div.sk-container {/* jupyter's `normalize.less` sets `[hidden] { display: none; }` but bootstrap.min.css set `[hidden] { display: none !important; }` so we also need the `!important` here to be able to override the default hidden behavior on the sphinx rendered scikit-learn.org. See: https://github.com/scikit-learn/scikit-learn/issues/21755 */display: inline-block !important;position: relative;}#sk-container-id-1 div.sk-text-repr-fallback {display: none;}</style><div id=\"sk-container-id-1\" class=\"sk-top-container\"><div class=\"sk-text-repr-fallback\"><pre>LogisticRegression()</pre><b>In a Jupyter environment, please rerun this cell to show the HTML representation or trust the notebook. <br />On GitHub, the HTML representation is unable to render, please try loading this page with nbviewer.org.</b></div><div class=\"sk-container\" hidden><div class=\"sk-item\"><div class=\"sk-estimator sk-toggleable\"><input class=\"sk-toggleable__control sk-hidden--visually\" id=\"sk-estimator-id-1\" type=\"checkbox\" checked><label for=\"sk-estimator-id-1\" class=\"sk-toggleable__label sk-toggleable__label-arrow\">LogisticRegression</label><div class=\"sk-toggleable__content\"><pre>LogisticRegression()</pre></div></div></div></div></div>"
      ],
      "text/plain": [
       "LogisticRegression()"
      ]
     },
     "execution_count": 25,
     "metadata": {},
     "output_type": "execute_result"
    }
   ],
   "source": [
    "#Ajuste del modelo\n",
    "LR = LogisticRegression()\n",
    "LR.fit(M[[\"Edad\",\"Salario\",\"Antiguedad\"]], M[[\"Y\"]])\n",
    "#LR.predict(M[[\"Edad\",\"Salario\",\"Antiguedad\"]])"
   ]
  },
  {
   "cell_type": "code",
   "execution_count": 26,
   "metadata": {},
   "outputs": [
    {
     "name": "stdout",
     "output_type": "stream",
     "text": [
      "La tarjeta que se le asignará es Platino\n"
     ]
    }
   ],
   "source": [
    "y_est = LR.predict(np.asarray([[45,35000,4]]))\n",
    "print(\"La tarjeta que se le asignará es\",y_est[0])"
   ]
  },
  {
   "cell_type": "code",
   "execution_count": null,
   "metadata": {},
   "outputs": [],
   "source": []
  }
 ],
 "metadata": {
  "kernelspec": {
   "display_name": "Python 3",
   "language": "python",
   "name": "python3"
  },
  "language_info": {
   "codemirror_mode": {
    "name": "ipython",
    "version": 3
   },
   "file_extension": ".py",
   "mimetype": "text/x-python",
   "name": "python",
   "nbconvert_exporter": "python",
   "pygments_lexer": "ipython3",
   "version": "3.11.2"
  }
 },
 "nbformat": 4,
 "nbformat_minor": 2
}
