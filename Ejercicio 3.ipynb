{
 "cells": [
  {
   "cell_type": "code",
   "execution_count": 7,
   "id": "124057ff",
   "metadata": {},
   "outputs": [
    {
     "name": "stdout",
     "output_type": "stream",
     "text": [
      "Indique la cantidad de caracteres que usará para la contraseña: 50\n",
      "Contraseña generada: mS,,UydD*4(P^4$CcaVLqt}%~dtv?_K^(Qe<l_0?d!Z*3k%Np1\n"
     ]
    }
   ],
   "source": [
    "import random\n",
    "import string\n",
    "\n",
    "def generar_contrasena(longitud):\n",
    "    caracteres = string.ascii_letters + string.digits + string.punctuation\n",
    "    contrasena = ''.join(random.choice(caracteres) for _ in range(longitud))\n",
    "    return contrasena\n",
    "\n",
    "def main():\n",
    "    longitud = int(input(\"Indique la cantidad de caracteres que usará para la contraseña: \"))\n",
    "    contrasena = generar_contrasena(longitud)\n",
    "    print(\"Contraseña generada:\", contrasena)\n",
    "\n",
    "main()"
   ]
  },
  {
   "cell_type": "code",
   "execution_count": null,
   "id": "201e1979",
   "metadata": {},
   "outputs": [],
   "source": []
  }
 ],
 "metadata": {
  "kernelspec": {
   "display_name": "Python 3 (ipykernel)",
   "language": "python",
   "name": "python3"
  },
  "language_info": {
   "codemirror_mode": {
    "name": "ipython",
    "version": 3
   },
   "file_extension": ".py",
   "mimetype": "text/x-python",
   "name": "python",
   "nbconvert_exporter": "python",
   "pygments_lexer": "ipython3",
   "version": "3.11.4"
  }
 },
 "nbformat": 4,
 "nbformat_minor": 5
}
