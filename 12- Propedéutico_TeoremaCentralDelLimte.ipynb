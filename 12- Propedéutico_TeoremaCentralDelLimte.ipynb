{
 "cells": [
  {
   "cell_type": "code",
   "execution_count": 1,
   "metadata": {},
   "outputs": [],
   "source": [
    "import numpy as np\n",
    "from scipy.stats import norm\n",
    "from scipy.stats import expon\n",
    "from scipy.stats import gamma\n",
    "from scipy.stats import beta\n",
    "from math import factorial as ft\n",
    "import matplotlib.pyplot as plt\n",
    "from math import log"
   ]
  },
  {
   "cell_type": "code",
   "execution_count": 2,
   "metadata": {},
   "outputs": [
    {
     "data": {
      "image/png": "[encoded data removed]",
      "text/plain": [
       "<Figure size 800x200 with 2 Axes>"
      ]
     },
     "metadata": {},
     "output_type": "display_data"
    },
    {
     "data": {
      "text/plain": [
       "0"
      ]
     },
     "execution_count": 2,
     "metadata": {},
     "output_type": "execute_result"
    }
   ],
   "source": [
    "def TCLDistExp():\n",
    "    l = 3.\n",
    "    rv = expon(0.,1./l)\n",
    "    mv = 1./l\n",
    "    v = 1./(l**2.) \n",
    "    vnorm = []\n",
    "    for j in range(1000):\n",
    "        vec = []\n",
    "        for i in range(1000):\n",
    "            vec.extend([rv.rvs(1)[0]])\n",
    "        vnorm.extend([(np.mean(vec) - mv)/((v/1000.)**(1./2.))])\n",
    "    fig = plt.figure(figsize=(8,2))\n",
    "    ax = fig.add_subplot(1,2,1)\n",
    "    plt.hist(vnorm, 20, facecolor='blue', alpha=0.9)\n",
    "    ax = fig.add_subplot(1,2,2)\n",
    "    plt.hist(vec, 20, facecolor='red', alpha=0.9)\n",
    "    plt.show()\n",
    "    return 0\n",
    "#Ejemplo.\n",
    "TCLDistExp()"
   ]
  },
  {
   "cell_type": "code",
   "execution_count": 3,
   "metadata": {},
   "outputs": [
    {
     "data": {
      "image/png": "[encoded data removed]",
      "text/plain": [
       "<Figure size 800x200 with 2 Axes>"
      ]
     },
     "metadata": {},
     "output_type": "display_data"
    },
    {
     "data": {
      "text/plain": [
       "0"
      ]
     },
     "execution_count": 3,
     "metadata": {},
     "output_type": "execute_result"
    }
   ],
   "source": [
    "def TCLDistGamma():\n",
    "    a = 5.\n",
    "    b = 10.\n",
    "    rv = gamma(a,0.,1./b)\n",
    "    mv = a/b\n",
    "    v = a/(b**2.)\n",
    "    vnorm = []\n",
    "    for j in range(1000):\n",
    "        vec = []\n",
    "        for i in range(1000):\n",
    "            vec.extend([rv.rvs(1)[0]])\n",
    "        vnorm.extend([(np.mean(vec) - mv)/((v/1000.)**(1./2.))])\n",
    "    fig = plt.figure(figsize=(8,2))\n",
    "    ax = fig.add_subplot(1,2,1)\n",
    "    plt.hist(vnorm, 20, facecolor='blue', alpha=0.9)\n",
    "    ax = fig.add_subplot(1,2,2)\n",
    "    plt.hist(vec, 20, facecolor='red', alpha=0.9)\n",
    "    plt.show()\n",
    "    return 0\n",
    "#Ejemplo.\n",
    "TCLDistGamma()"
   ]
  },
  {
   "cell_type": "code",
   "execution_count": 4,
   "metadata": {},
   "outputs": [
    {
     "data": {
      "image/png": "[encoded data removed]",
      "text/plain": [
       "<Figure size 800x200 with 2 Axes>"
      ]
     },
     "metadata": {},
     "output_type": "display_data"
    },
    {
     "data": {
      "text/plain": [
       "0"
      ]
     },
     "execution_count": 4,
     "metadata": {},
     "output_type": "execute_result"
    }
   ],
   "source": [
    "def TCLDistBeta():\n",
    "    a = 0.25\n",
    "    b = 0.25\n",
    "    rv = beta(a,b)\n",
    "    mv = a/(a+b)\n",
    "    v = (a*b)/(((a+b)**2.)*(a+b+1.)) \n",
    "    vnorm = []\n",
    "    for j in range(1000):\n",
    "        vec = []\n",
    "        for i in range(1000):\n",
    "            vec.extend([rv.rvs(1)[0]])\n",
    "        vnorm.extend([(np.mean(vec) - mv)/((v/1000.)**(1./2.))])\n",
    "    fig = plt.figure(figsize=(8,2))\n",
    "    ax = fig.add_subplot(1,2,1)\n",
    "    plt.hist(vnorm, 20, facecolor='blue', alpha=0.9)\n",
    "    ax = fig.add_subplot(1,2,2)\n",
    "    plt.hist(vec, 20, facecolor='red', alpha=0.9)\n",
    "    plt.show()\n",
    "    return 0\n",
    "#Ejemplo.\n",
    "TCLDistBeta()"
   ]
  },
  {
   "cell_type": "markdown",
   "metadata": {},
   "source": [
    "# Aplicación del Teorema Central del Límite en la distribución Binomial"
   ]
  },
  {
   "cell_type": "code",
   "execution_count": null,
   "metadata": {},
   "outputs": [],
   "source": [
    "def Comb(n,k):\n",
    "    num = ft(n)\n",
    "    den = ft(n-k)*ft(k)\n",
    "    r = num/den\n",
    "    return r"
   ]
  },
  {
   "cell_type": "code",
   "execution_count": null,
   "metadata": {},
   "outputs": [],
   "source": [
    "def AproxBin():\n",
    "    p = 0.4\n",
    "    n = 200\n",
    "    suma = 0.\n",
    "    for k in range(101,201):\n",
    "        suma = suma + Comb(n,k)*(p**k)*((1.-p)**(n-k))\n",
    "    m = n*p\n",
    "    std = (n*p*(1-p))**(0.5)\n",
    "    Fd = norm.cdf(200,m,std)\n",
    "    Fi = norm.cdf(101,m,std)\n",
    "    Prob1 = Fd - Fi\n",
    "    #Correción 0.5\n",
    "    Fd = norm.cdf(200.5,m,std)\n",
    "    Fi = norm.cdf(100.5,m,std)\n",
    "    Prob2 = Fd - Fi\n",
    "    print(\"Probabilidad Binomial: \" + \"%.8f\" %suma)\n",
    "    print(\"Probabilidad Aprox. Normal sin corrección: \" + \"%.8f\" %Prob1)\n",
    "    print(\"Probabilidad Aprox. Normal con corrección: \" + \"%.8f\" %Prob2)\n",
    "    return 0\n",
    "#Ejemplo.\n",
    "AproxBin()"
   ]
  },
  {
   "cell_type": "code",
   "execution_count": null,
   "metadata": {},
   "outputs": [],
   "source": []
  }
 ],
 "metadata": {
  "kernelspec": {
   "display_name": "Python 3",
   "language": "python",
   "name": "python3"
  },
  "language_info": {
   "codemirror_mode": {
    "name": "ipython",
    "version": 3
   },
   "file_extension": ".py",
   "mimetype": "text/x-python",
   "name": "python",
   "nbconvert_exporter": "python",
   "pygments_lexer": "ipython3",
   "version": "3.11.2"
  }
 },
 "nbformat": 4,
 "nbformat_minor": 2
}
