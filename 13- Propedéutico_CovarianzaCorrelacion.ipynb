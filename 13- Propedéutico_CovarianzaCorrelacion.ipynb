{
 "cells": [
  {
   "cell_type": "code",
   "execution_count": 1,
   "metadata": {},
   "outputs": [],
   "source": [
    "import numpy as np\n",
    "import pandas as pd\n",
    "from datetime import datetime, timedelta\n",
    "import matplotlib.pyplot as plt\n",
    "pd.set_option('display.max_columns',None)\n",
    "pd.set_option('display.max_rows',None)\n",
    "pd.options.display.float_format = \"{:,.5f}\".format\n",
    "import warnings\n",
    "warnings.filterwarnings('ignore')"
   ]
  },
  {
   "cell_type": "code",
   "execution_count": 2,
   "metadata": {},
   "outputs": [],
   "source": [
    "#Lecura de datos\n",
    "MP = pd.read_csv(\"C:\\\\Users\\\\ricardo\\\\Desktop\\\\PropedeuticoCienciaDeDatos\\\\Bases\\\\DependenciaLinealPositiva.csv\",dtype='str',encoding = \"ISO-8859-1\")\n",
    "MI = pd.read_csv(\"C:\\\\Users\\\\ricardo\\\\Desktop\\\\PropedeuticoCienciaDeDatos\\\\Bases\\\\Independencia.csv\",dtype='str',encoding = \"ISO-8859-1\")\n",
    "MN = pd.read_csv(\"C:\\\\Users\\\\ricardo\\\\Desktop\\\\PropedeuticoCienciaDeDatos\\\\Bases\\\\DependenciaLinealNegativa.csv\",dtype='str',encoding = \"ISO-8859-1\")"
   ]
  },
  {
   "cell_type": "code",
   "execution_count": 3,
   "metadata": {},
   "outputs": [
    {
     "data": {
      "text/html": [
       "<div>\n",
       "<style scoped>\n",
       "    .dataframe tbody tr th:only-of-type {\n",
       "        vertical-align: middle;\n",
       "    }\n",
       "\n",
       "    .dataframe tbody tr th {\n",
       "        vertical-align: top;\n",
       "    }\n",
       "\n",
       "    .dataframe thead th {\n",
       "        text-align: right;\n",
       "    }\n",
       "</style>\n",
       "<table border=\"1\" class=\"dataframe\">\n",
       "  <thead>\n",
       "    <tr style=\"text-align: right;\">\n",
       "      <th></th>\n",
       "      <th>X</th>\n",
       "      <th>Y</th>\n",
       "    </tr>\n",
       "  </thead>\n",
       "  <tbody>\n",
       "    <tr>\n",
       "      <th>0</th>\n",
       "      <td>1.37874</td>\n",
       "      <td>2.12335</td>\n",
       "    </tr>\n",
       "  </tbody>\n",
       "</table>\n",
       "</div>"
      ],
      "text/plain": [
       "        X       Y\n",
       "0 1.37874 2.12335"
      ]
     },
     "execution_count": 3,
     "metadata": {},
     "output_type": "execute_result"
    }
   ],
   "source": [
    "#Encabezado de bases\n",
    "MP[[\"X\",\"Y\"]] = MP[[\"X\",\"Y\"]].astype(float)\n",
    "MI[[\"X\",\"Y\"]] = MI[[\"X\",\"Y\"]].astype(float)\n",
    "MN[[\"X\",\"Y\"]] = MN[[\"X\",\"Y\"]].astype(float)\n",
    "MP.head(1)"
   ]
  },
  {
   "cell_type": "code",
   "execution_count": 4,
   "metadata": {},
   "outputs": [
    {
     "data": {
      "text/html": [
       "<div>\n",
       "<style scoped>\n",
       "    .dataframe tbody tr th:only-of-type {\n",
       "        vertical-align: middle;\n",
       "    }\n",
       "\n",
       "    .dataframe tbody tr th {\n",
       "        vertical-align: top;\n",
       "    }\n",
       "\n",
       "    .dataframe thead th {\n",
       "        text-align: right;\n",
       "    }\n",
       "</style>\n",
       "<table border=\"1\" class=\"dataframe\">\n",
       "  <thead>\n",
       "    <tr style=\"text-align: right;\">\n",
       "      <th></th>\n",
       "      <th>X</th>\n",
       "      <th>Y</th>\n",
       "    </tr>\n",
       "  </thead>\n",
       "  <tbody>\n",
       "    <tr>\n",
       "      <th>0</th>\n",
       "      <td>-1.19111</td>\n",
       "      <td>-0.73327</td>\n",
       "    </tr>\n",
       "  </tbody>\n",
       "</table>\n",
       "</div>"
      ],
      "text/plain": [
       "         X        Y\n",
       "0 -1.19111 -0.73327"
      ]
     },
     "execution_count": 4,
     "metadata": {},
     "output_type": "execute_result"
    }
   ],
   "source": [
    "MI.head(1)"
   ]
  },
  {
   "cell_type": "code",
   "execution_count": 5,
   "metadata": {},
   "outputs": [
    {
     "data": {
      "text/html": [
       "<div>\n",
       "<style scoped>\n",
       "    .dataframe tbody tr th:only-of-type {\n",
       "        vertical-align: middle;\n",
       "    }\n",
       "\n",
       "    .dataframe tbody tr th {\n",
       "        vertical-align: top;\n",
       "    }\n",
       "\n",
       "    .dataframe thead th {\n",
       "        text-align: right;\n",
       "    }\n",
       "</style>\n",
       "<table border=\"1\" class=\"dataframe\">\n",
       "  <thead>\n",
       "    <tr style=\"text-align: right;\">\n",
       "      <th></th>\n",
       "      <th>X</th>\n",
       "      <th>Y</th>\n",
       "    </tr>\n",
       "  </thead>\n",
       "  <tbody>\n",
       "    <tr>\n",
       "      <th>0</th>\n",
       "      <td>-0.98436</td>\n",
       "      <td>1.12364</td>\n",
       "    </tr>\n",
       "  </tbody>\n",
       "</table>\n",
       "</div>"
      ],
      "text/plain": [
       "         X       Y\n",
       "0 -0.98436 1.12364"
      ]
     },
     "execution_count": 5,
     "metadata": {},
     "output_type": "execute_result"
    }
   ],
   "source": [
    "MN.head(1)"
   ]
  },
  {
   "cell_type": "code",
   "execution_count": 6,
   "metadata": {},
   "outputs": [
    {
     "data": {
      "text/html": [
       "<div>\n",
       "<style scoped>\n",
       "    .dataframe tbody tr th:only-of-type {\n",
       "        vertical-align: middle;\n",
       "    }\n",
       "\n",
       "    .dataframe tbody tr th {\n",
       "        vertical-align: top;\n",
       "    }\n",
       "\n",
       "    .dataframe thead th {\n",
       "        text-align: right;\n",
       "    }\n",
       "</style>\n",
       "<table border=\"1\" class=\"dataframe\">\n",
       "  <thead>\n",
       "    <tr style=\"text-align: right;\">\n",
       "      <th></th>\n",
       "      <th>X</th>\n",
       "      <th>Y</th>\n",
       "    </tr>\n",
       "  </thead>\n",
       "  <tbody>\n",
       "    <tr>\n",
       "      <th>999</th>\n",
       "      <td>1.50623</td>\n",
       "      <td>-0.85451</td>\n",
       "    </tr>\n",
       "  </tbody>\n",
       "</table>\n",
       "</div>"
      ],
      "text/plain": [
       "          X        Y\n",
       "999 1.50623 -0.85451"
      ]
     },
     "execution_count": 6,
     "metadata": {},
     "output_type": "execute_result"
    }
   ],
   "source": [
    "MN.tail(1)"
   ]
  },
  {
   "cell_type": "code",
   "execution_count": 7,
   "metadata": {},
   "outputs": [],
   "source": [
    "#Función para el cálculo de la media\n",
    "def FunMedia(x):\n",
    "    n = len(x) #Número de datos \n",
    "    E = 0 #Variabla acumulativa\n",
    "    for i in range(n):\n",
    "        E = E + x[i]\n",
    "    media = E/n\n",
    "    return media\n",
    "#Función para el cálculo de la covarianza\n",
    "def FunCov(x,y):\n",
    "    n = len(x) #La longitud de los vectores \"x\" y \"y\" debe coincidir\n",
    "    mx = FunMedia(x)\n",
    "    my = FunMedia(y)\n",
    "    C = 0 #Variable acumulativa\n",
    "    for i in range(n):\n",
    "        C = C + (x[i] - mx)*(y[i] - my)\n",
    "    covarianza = C/(n-1)\n",
    "    return covarianza"
   ]
  },
  {
   "cell_type": "code",
   "execution_count": 8,
   "metadata": {},
   "outputs": [
    {
     "name": "stdout",
     "output_type": "stream",
     "text": [
      "La covarianza entre las variables X y Y es igual a: 0.76419233046416\n",
      "La covarianza entre las variables X y Y es igual a: 0.7641923304641599\n"
     ]
    }
   ],
   "source": [
    "#Caso dependencia lineal positiva\n",
    "x, y = MP[\"X\"].tolist(), MP[\"Y\"].tolist()\n",
    "cov1 = FunCov(x,y)\n",
    "cov2 = np.cov(x,y)\n",
    "print(\"La covarianza entre las variables X y Y es igual a:\",cov1)\n",
    "print(\"La covarianza entre las variables X y Y es igual a:\",cov2[0][1])"
   ]
  },
  {
   "cell_type": "code",
   "execution_count": 9,
   "metadata": {},
   "outputs": [
    {
     "data": {
      "text/plain": [
       "array([[0.95587393, 0.76419233],\n",
       "       [0.76419233, 0.96305853]])"
      ]
     },
     "execution_count": 9,
     "metadata": {},
     "output_type": "execute_result"
    }
   ],
   "source": [
    "np.cov(x,y)"
   ]
  },
  {
   "cell_type": "code",
   "execution_count": null,
   "metadata": {},
   "outputs": [],
   "source": [
    "#Caso independencia\n",
    "x, y = MI[\"X\"].tolist(), MI[\"Y\"].tolist()\n",
    "cov1 = FunCov(x,y)\n",
    "cov2 = np.cov(x,y)\n",
    "print(\"La covarianza entre las variables X y Y es igual a:\",cov1)\n",
    "print(\"La covarianza entre las variables X y Y es igual a:\",cov2[0][1])"
   ]
  },
  {
   "cell_type": "code",
   "execution_count": null,
   "metadata": {},
   "outputs": [],
   "source": [
    "#Caso dependencia lineal negativa\n",
    "x, y = MN[\"X\"].tolist(), MN[\"Y\"].tolist()\n",
    "cov1 = FunCov(x,y)\n",
    "cov2 = np.cov(x,y)\n",
    "print(\"La covarianza entre las variables X y Y es igual a:\",cov1)\n",
    "print(\"La covarianza entre las variables X y Y es igual a:\",cov2[0][1])"
   ]
  },
  {
   "cell_type": "code",
   "execution_count": null,
   "metadata": {},
   "outputs": [],
   "source": [
    "#Gráficas correspondientes a la covarianza\n",
    "fig = plt.figure(figsize=(20,5))\n",
    "ax = fig.add_subplot(1,3,1)\n",
    "ax.set_title(\"Covarianza positiva\",fontsize=12,fontweight='bold')\n",
    "plt.scatter(MP[\"X\"].tolist(), MP[\"Y\"].tolist())\n",
    "ax = fig.add_subplot(1,3,2)\n",
    "ax.set_title(\"Independencia\",fontsize=12,fontweight='bold')\n",
    "plt.scatter(MI[\"X\"].tolist(), MI[\"Y\"].tolist())\n",
    "ax = fig.add_subplot(1,3,3)\n",
    "ax.set_title(\"Covarianza negativa\",fontsize=12,fontweight='bold')\n",
    "plt.scatter(MN[\"X\"].tolist(), MN[\"Y\"].tolist())\n",
    "plt.show()"
   ]
  },
  {
   "cell_type": "code",
   "execution_count": null,
   "metadata": {},
   "outputs": [],
   "source": [
    "#Covarianza cero, pero no independencia\n",
    "X = np.random.uniform(-1,1,1000)\n",
    "#Definición de la varibale aleatoria Y (dependiente de X ya que existe una relación funcional)\n",
    "Y = []\n",
    "for x in X:\n",
    "    Y.append( (1-(x**2))**0.5 )\n",
    "#Gráfica\n",
    "fig = plt.figure(figsize=(10,6))\n",
    "ax = fig.add_subplot(1,1,1)\n",
    "ax.set_title(\"Covarianza cero (no independencia)\",fontsize=12,fontweight='bold')\n",
    "plt.scatter(X, Y)\n",
    "plt.show()"
   ]
  },
  {
   "cell_type": "code",
   "execution_count": null,
   "metadata": {},
   "outputs": [],
   "source": [
    "cov1 = FunCov(X,Y)\n",
    "print(\"La covarianza entre las variables X y Y es igual a:\",cov1)"
   ]
  },
  {
   "cell_type": "code",
   "execution_count": null,
   "metadata": {},
   "outputs": [],
   "source": []
  }
 ],
 "metadata": {
  "kernelspec": {
   "display_name": "Python 3",
   "language": "python",
   "name": "python3"
  },
  "language_info": {
   "codemirror_mode": {
    "name": "ipython",
    "version": 3
   },
   "file_extension": ".py",
   "mimetype": "text/x-python",
   "name": "python",
   "nbconvert_exporter": "python",
   "pygments_lexer": "ipython3",
   "version": "3.11.2"
  }
 },
 "nbformat": 4,
 "nbformat_minor": 2
}
