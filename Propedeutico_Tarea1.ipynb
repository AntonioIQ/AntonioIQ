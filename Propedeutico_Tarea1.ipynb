{
 "cells": [
  {
   "cell_type": "markdown",
   "metadata": {},
   "source": [
    "# Tarea 1. Propedéutico Maestría en Ciencia de Datos"
   ]
  },
  {
   "cell_type": "markdown",
   "metadata": {},
   "source": [
    "### Ejercicio 1"
   ]
  },
  {
   "cell_type": "markdown",
   "metadata": {},
   "source": [
    "Escribir un programa que permita gestionar la base de datos de clientes de una empresa. Los clientes se guardarán en un diccionario en el que la clave de cada cliente será su RFC, y el valor será otro diccionario con los datos del cliente (nombre, dirección, teléfono, correo, preferente), donde preferente tendrá el valor True si se trata de un cliente preferente. El programa debe preguntar al usuario por una opción del siguiente menú: \n",
    "\n",
    "(1) Añadir cliente, \n",
    "<br>(2) Eliminar cliente, \n",
    "<br>(3) Mostrar cliente, \n",
    "<br>(4) Listar todos los clientes, \n",
    "<br>(5) Listar clientes preferentes, \n",
    "<br>(6) Terminar. \n",
    "\n",
    "En función de la opción elegida el programa tendrá que hacer lo siguiente:\n",
    "\n",
    "Preguntar los datos del cliente, crear un diccionario con los datos y añadirlo a la base de datos.\n",
    "Preguntar por el RFC del cliente y eliminar sus datos de la base de datos.\n",
    "Preguntar por el RFC del cliente y mostrar sus datos.\n",
    "Mostrar lista de todos los clientes de la base datos con su RFC y nombre.\n",
    "Mostrar la lista de clientes preferentes de la base de datos con su RFC y nombre.\n",
    "Terminar el programa."
   ]
  },
  {
   "cell_type": "code",
   "execution_count": null,
   "metadata": {},
   "outputs": [],
   "source": []
  },
  {
   "cell_type": "markdown",
   "metadata": {},
   "source": [
    "### Ejercicio 2"
   ]
  },
  {
   "cell_type": "markdown",
   "metadata": {},
   "source": [
    "Escribir una función que convierta un número decimal en binario y otra que convierta un número binario en decimal."
   ]
  },
  {
   "cell_type": "markdown",
   "metadata": {},
   "source": [
    "### Ejercicio 3"
   ]
  },
  {
   "cell_type": "markdown",
   "metadata": {},
   "source": [
    "Escribe un generador de contraseñas en Python. \n",
    "<br>Las contraseñas seguras tienen una combinación de letras minúsculas, letras mayúsculas, números y símbolos. \n",
    "<br>Las contraseñas deben ser aleatorias, generando una nueva contraseña cada vez que el usuario solicite una nueva contraseña."
   ]
  },
  {
   "cell_type": "markdown",
   "metadata": {},
   "source": [
    "### Ejercicio 4"
   ]
  },
  {
   "cell_type": "markdown",
   "metadata": {},
   "source": [
    "Paso 1. Definir una función en Python que corresponda a la expresión analítica f(x,y) = x^2 - y^2 + 1.\n",
    "<br> Paso 2. Definir una función en Python que corresponda al gradiente de la función f(x,y). Donde el gradiente se define como Gradiente(f)(x,y) = (fx(x,y),fy(x,y)), con fx la derivada parcial de la función f respecto a \"x\" y fy la derivada parcial de la función f respecto a \"y\".\n",
    "<br> Paso 3. Definir una tercer función en Python que, dado un punto (x0,y0) en R^2,  evalue  el gradiente definido en el Paso 2, y proporcione como resultado el valor de la función f (definida en el Paso 1) evaluada en el punto (x1,y1) = (x0,y0) - 0.5Gradiente(f)(x,y).\n",
    "<br> Paso 4. Si en el Paso 3, (x0,y0) = (1,1), ¿Cuál relación de orden es correcta, f(x1,y1) > f(x0,y0) o f(x1,y1) < f(x0,y0)?"
   ]
  },
  {
   "cell_type": "code",
   "execution_count": null,
   "metadata": {},
   "outputs": [],
   "source": []
  }
 ],
 "metadata": {
  "kernelspec": {
   "display_name": "Python 3 (ipykernel)",
   "language": "python",
   "name": "python3"
  },
  "language_info": {
   "codemirror_mode": {
    "name": "ipython",
    "version": 3
   },
   "file_extension": ".py",
   "mimetype": "text/x-python",
   "name": "python",
   "nbconvert_exporter": "python",
   "pygments_lexer": "ipython3",
   "version": "3.11.4"
  }
 },
 "nbformat": 4,
 "nbformat_minor": 2
}
