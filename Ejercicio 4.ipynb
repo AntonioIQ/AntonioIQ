{
 "cells": [
  {
   "cell_type": "code",
   "execution_count": 1,
   "id": "5b69d0e9",
   "metadata": {},
   "outputs": [
    {
     "name": "stdout",
     "output_type": "stream",
     "text": [
      "f(x1, y1) < f(x0, y0)\n"
     ]
    }
   ],
   "source": [
    "#Paso 1. Definir una función en Python que corresponda a la expresión analítica f(x,y) = x^2 - y^2 + 1.\n",
    "#Paso 2. Definir una función en Python que corresponda al gradiente de la función f(x,y). Donde el gradiente se define como Gradiente(f)(x,y) = (fx(x,y),fy(x,y)), con fx la derivada parcial de la función f respecto a \"x\" y fy la derivada parcial de la función f respecto a \"y\".\n",
    "#Paso 3. Definir una tercer función en Python que, dado un punto (x0,y0) en R^2, evalue el gradiente definido en el Paso 2, y proporcione como resultado el valor de la función f (definida en el Paso 1) evaluada en el punto (x1,y1) = (x0,y0) - 0.5Gradiente(f)(x,y).\n",
    "#Paso 4. Si en el Paso 3, (x0,y0) = (1,1), ¿Cuál relación de orden es correcta, f(x1,y1) > f(x0,y0) o f(x1,y1) < f(x0,y0)?\n",
    "\n",
    "def f(x, y):\n",
    "    return x**2 - y**2 + 1\n",
    "\n",
    "def gradiente_f(x, y):\n",
    "    fx = 2*x\n",
    "    fy = -2*y\n",
    "    return fx, fy\n",
    "\n",
    "def evaluar_gradiente(x0, y0):\n",
    "    grad_fx, grad_fy = gradiente_f(x0, y0)\n",
    "    x1 = x0 - 0.5 * grad_fx\n",
    "    y1 = y0 - 0.5 * grad_fy\n",
    "    resultado = f(x1, y1)\n",
    "    return resultado\n",
    "\n",
    "x0, y0 = 1, 1\n",
    "resultado = evaluar_gradiente(x0, y0)\n",
    "\n",
    "if resultado > f(x0, y0):\n",
    "    print(\"f(x1, y1) > f(x0, y0)\")\n",
    "elif resultado < f(x0, y0):\n",
    "    print(\"f(x1, y1) < f(x0, y0)\")\n",
    "else:\n",
    "    print(\"f(x1, y1) = f(x0, y0)\")\n",
    "\n",
    "\n"
   ]
  },
  {
   "cell_type": "code",
   "execution_count": null,
   "id": "bb476715",
   "metadata": {},
   "outputs": [],
   "source": []
  }
 ],
 "metadata": {
  "kernelspec": {
   "display_name": "Python 3 (ipykernel)",
   "language": "python",
   "name": "python3"
  },
  "language_info": {
   "codemirror_mode": {
    "name": "ipython",
    "version": 3
   },
   "file_extension": ".py",
   "mimetype": "text/x-python",
   "name": "python",
   "nbconvert_exporter": "python",
   "pygments_lexer": "ipython3",
   "version": "3.11.4"
  }
 },
 "nbformat": 4,
 "nbformat_minor": 5
}
