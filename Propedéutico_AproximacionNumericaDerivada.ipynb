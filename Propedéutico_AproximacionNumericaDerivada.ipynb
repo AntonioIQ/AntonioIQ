{
 "cells": [
  {
   "cell_type": "markdown",
   "metadata": {},
   "source": [
    "# Aproximación numérica derivada"
   ]
  },
  {
   "cell_type": "code",
   "execution_count": 1,
   "metadata": {},
   "outputs": [],
   "source": [
    "import numpy as np\n",
    "import pandas as pd\n",
    "import matplotlib.pyplot as plt\n",
    "pd.set_option('display.max_columns',None)\n",
    "pd.set_option('display.max_rows',None)"
   ]
  },
  {
   "cell_type": "markdown",
   "metadata": {},
   "source": [
    "# 1. Definición de función"
   ]
  },
  {
   "cell_type": "code",
   "execution_count": 2,
   "metadata": {},
   "outputs": [],
   "source": [
    "def Funcion_1(x):\n",
    "    y = x**2\n",
    "    return y"
   ]
  },
  {
   "cell_type": "markdown",
   "metadata": {},
   "source": [
    "# 2. Aproximaciones numéricas"
   ]
  },
  {
   "cell_type": "code",
   "execution_count": 3,
   "metadata": {},
   "outputs": [],
   "source": [
    "x, h = 4, 0.001\n",
    "#Aproximación 1\n",
    "Df_1 = (Funcion_1(x+h) - Funcion_1(x)) / h\n",
    "#Aproximación 2\n",
    "Df_2 = (Funcion_1(x+h) - Funcion_1(x-h)) / (2*h)\n",
    "print(\"La primer aproximación de la dervidada en\",x,\"es igual a\",Df_1)\n",
    "print(\"La segunda aproximación de la dervidada en\",x,\"es igual a\",Df_2)"
   ]
  },
  {
   "cell_type": "markdown",
   "metadata": {},
   "source": [
    "# Ejercicio. Calcular la derivada numérica de las siguientes funciones en x=1"
   ]
  },
  {
   "cell_type": "code",
   "execution_count": 4,
   "metadata": {},
   "outputs": [],
   "source": [
    "#1. f(x) = x**5\n",
    "#2. f(x) = 3x**2\n",
    "#3. f(x) = x**3 + (4/3)x**2 - 5x + 1\n",
    "#4. f(x) = (1/x)(x**2 + 1/x)\n",
    "#5. f(x) = (x**2 - 1)/(x**2 + 1)"
   ]
  },
  {
   "cell_type": "markdown",
   "metadata": {},
   "source": [
    "# Aproximación lineal"
   ]
  },
  {
   "cell_type": "code",
   "execution_count": 5,
   "metadata": {},
   "outputs": [],
   "source": [
    "#Aproximación lineal de la función f(x) = raiz(x) en x0 = 4.1\n",
    "#Definición de la aproximaxión lineal\n",
    "def RaizAprxoL(x,x0):\n",
    "    Df = 1/(2*np.sqrt(x0))\n",
    "    L = Df*(x-x0) + np.sqrt(x0)\n",
    "    return L"
   ]
  },
  {
   "cell_type": "code",
   "execution_count": 6,
   "metadata": {},
   "outputs": [],
   "source": [
    "#Gráfica de f(x) = raiz(x) y su recta tangente\n",
    "x0 = 4\n",
    "vx = np.linspace(0,10,1000)\n",
    "vy = [np.sqrt(x) for x in vx]\n",
    "vL = [RaizAprxoL(x,x0) for x in vx]\n",
    "fig = plt.figure(figsize=(10.,5.))\n",
    "ax = fig.add_subplot(1,1,1)\n",
    "plt.plot(vx,vy,color=\"blue\",label=\"Función raíz cuadrada\")\n",
    "plt.plot(vx,vL,color=\"red\",label=\"Aproximación lineal\")\n",
    "plt.plot(x0,np.sqrt(x0), marker=\"x\", color=\"black\") #Gráfica de un punto\n",
    "plt.annotate(\"(x0,f(x0))\", (0.80*x0, 1.05*np.sqrt(x0)))\n",
    "plt.legend(loc='best')\n",
    "plt.show()"
   ]
  },
  {
   "cell_type": "code",
   "execution_count": 7,
   "metadata": {},
   "outputs": [],
   "source": [
    "#Comparativo del cálculo de las raices\n",
    "x1 = 4.1\n",
    "print(\"La raíz cuadrada de\",x1,\"es igual a\",np.sqrt(x1))\n",
    "print(\"Mediante la aproximación lienal, la raíz cuadrada de\",x1,\"es igual a\",RaizAprxoL(x1,x0))"
   ]
  },
  {
   "cell_type": "markdown",
   "metadata": {},
   "source": [
    "# Algoritmo de Newton-Raphson"
   ]
  },
  {
   "cell_type": "code",
   "execution_count": 8,
   "metadata": {},
   "outputs": [],
   "source": [
    "def f(x):\n",
    "    y = x**2 - 1\n",
    "    return y\n",
    "def Df(x):\n",
    "    dy = 2*x\n",
    "    return dy\n",
    "def NR(x0,iteracion=1000):\n",
    "    i = 0\n",
    "    while (np.abs(f(x0)) >= 0.0001) and (i <= iteracion):\n",
    "        x0 = x0 - (f(x0)/Df(x0))\n",
    "        i = i + 1\n",
    "    return [x0,f(x0),iteracion]\n",
    "#Ejemplo\n",
    "[x0,y,iteracion] = NR(2)\n",
    "print(\"Un valor en donde es cero f(x) es\",x0)  "
   ]
  },
  {
   "cell_type": "markdown",
   "metadata": {},
   "source": [
    "# Ejercicio. Con base en el método de N-R determinar una raíz de la función f(x) = cos(x) (x en radianes)."
   ]
  },
  {
   "cell_type": "code",
   "execution_count": null,
   "metadata": {},
   "outputs": [],
   "source": []
  }
 ],
 "metadata": {
  "kernelspec": {
   "display_name": "Python 3",
   "language": "python",
   "name": "python3"
  },
  "language_info": {
   "codemirror_mode": {
    "name": "ipython",
    "version": 3
   },
   "file_extension": ".py",
   "mimetype": "text/x-python",
   "name": "python",
   "nbconvert_exporter": "python",
   "pygments_lexer": "ipython3",
   "version": "3.11.2"
  }
 },
 "nbformat": 4,
 "nbformat_minor": 2
}
