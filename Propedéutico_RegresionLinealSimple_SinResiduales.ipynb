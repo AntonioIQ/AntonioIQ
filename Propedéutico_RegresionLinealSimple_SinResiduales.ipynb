{
 "cells": [
  {
   "cell_type": "markdown",
   "metadata": {},
   "source": [
    "# Regresión lineal simple (una variable dependiente y una variable explicativa)"
   ]
  },
  {
   "cell_type": "code",
   "execution_count": 1,
   "metadata": {},
   "outputs": [],
   "source": [
    "import numpy as np\n",
    "import pandas as pd\n",
    "import matplotlib.pyplot as plt\n",
    "import scipy.stats as stats\n",
    "pd.set_option('display.max_columns',None)\n",
    "pd.set_option('display.max_rows',None)"
   ]
  },
  {
   "cell_type": "markdown",
   "metadata": {},
   "source": [
    "# Lectura de base de datos y ajuste del tipo de valor por columna"
   ]
  },
  {
   "cell_type": "code",
   "execution_count": 2,
   "metadata": {},
   "outputs": [],
   "source": [
    "#Lectura de base de datos\n",
    "M = pd.read_csv(\"C:\\\\Users\\\\ricardo\\\\Desktop\\\\PropedeuticoCienciaDeDatos\\\\Bases\\\\RegresionLinealSimple2-5.csv\",dtype='str',encoding = \"ISO-8859-1\")"
   ]
  },
  {
   "cell_type": "code",
   "execution_count": 3,
   "metadata": {},
   "outputs": [
    {
     "data": {
      "text/html": [
       "<div>\n",
       "<style scoped>\n",
       "    .dataframe tbody tr th:only-of-type {\n",
       "        vertical-align: middle;\n",
       "    }\n",
       "\n",
       "    .dataframe tbody tr th {\n",
       "        vertical-align: top;\n",
       "    }\n",
       "\n",
       "    .dataframe thead th {\n",
       "        text-align: right;\n",
       "    }\n",
       "</style>\n",
       "<table border=\"1\" class=\"dataframe\">\n",
       "  <thead>\n",
       "    <tr style=\"text-align: right;\">\n",
       "      <th></th>\n",
       "      <th>X</th>\n",
       "      <th>Y</th>\n",
       "    </tr>\n",
       "  </thead>\n",
       "  <tbody>\n",
       "    <tr>\n",
       "      <th>0</th>\n",
       "      <td>2</td>\n",
       "      <td>-9.910487326</td>\n",
       "    </tr>\n",
       "    <tr>\n",
       "      <th>1</th>\n",
       "      <td>4</td>\n",
       "      <td>-7.197660931</td>\n",
       "    </tr>\n",
       "  </tbody>\n",
       "</table>\n",
       "</div>"
      ],
      "text/plain": [
       "   X             Y\n",
       "0  2  -9.910487326\n",
       "1  4  -7.197660931"
      ]
     },
     "execution_count": 3,
     "metadata": {},
     "output_type": "execute_result"
    }
   ],
   "source": [
    "M.head(2)"
   ]
  },
  {
   "cell_type": "code",
   "execution_count": 4,
   "metadata": {},
   "outputs": [
    {
     "data": {
      "text/html": [
       "<div>\n",
       "<style scoped>\n",
       "    .dataframe tbody tr th:only-of-type {\n",
       "        vertical-align: middle;\n",
       "    }\n",
       "\n",
       "    .dataframe tbody tr th {\n",
       "        vertical-align: top;\n",
       "    }\n",
       "\n",
       "    .dataframe thead th {\n",
       "        text-align: right;\n",
       "    }\n",
       "</style>\n",
       "<table border=\"1\" class=\"dataframe\">\n",
       "  <thead>\n",
       "    <tr style=\"text-align: right;\">\n",
       "      <th></th>\n",
       "      <th>X</th>\n",
       "      <th>Y</th>\n",
       "    </tr>\n",
       "  </thead>\n",
       "  <tbody>\n",
       "    <tr>\n",
       "      <th>0</th>\n",
       "      <td>2.0</td>\n",
       "      <td>-9.910487</td>\n",
       "    </tr>\n",
       "    <tr>\n",
       "      <th>1</th>\n",
       "      <td>4.0</td>\n",
       "      <td>-7.197661</td>\n",
       "    </tr>\n",
       "    <tr>\n",
       "      <th>2</th>\n",
       "      <td>6.0</td>\n",
       "      <td>22.737312</td>\n",
       "    </tr>\n",
       "    <tr>\n",
       "      <th>3</th>\n",
       "      <td>8.0</td>\n",
       "      <td>50.373510</td>\n",
       "    </tr>\n",
       "    <tr>\n",
       "      <th>4</th>\n",
       "      <td>10.0</td>\n",
       "      <td>8.505899</td>\n",
       "    </tr>\n",
       "  </tbody>\n",
       "</table>\n",
       "</div>"
      ],
      "text/plain": [
       "      X          Y\n",
       "0   2.0  -9.910487\n",
       "1   4.0  -7.197661\n",
       "2   6.0  22.737312\n",
       "3   8.0  50.373510\n",
       "4  10.0   8.505899"
      ]
     },
     "execution_count": 4,
     "metadata": {},
     "output_type": "execute_result"
    }
   ],
   "source": [
    "#Ajuste de formato de columnas\n",
    "M[\"X\"] = M[\"X\"].astype(float)\n",
    "M[\"Y\"] = M[\"Y\"].astype(float)\n",
    "M.head()"
   ]
  },
  {
   "cell_type": "code",
   "execution_count": 5,
   "metadata": {},
   "outputs": [],
   "source": [
    "x = M[\"X\"].values.tolist()\n",
    "y = M[\"Y\"].values.tolist()"
   ]
  },
  {
   "cell_type": "code",
   "execution_count": 6,
   "metadata": {},
   "outputs": [
    {
     "data": {
      "image/png": "[encoded data removed]",
      "text/plain": [
       "<Figure size 500x500 with 1 Axes>"
      ]
     },
     "metadata": {},
     "output_type": "display_data"
    }
   ],
   "source": [
    "#Gráfica de observaciones\n",
    "fig = plt.figure(figsize=(5.,5.))\n",
    "ax = fig.add_subplot(1,1,1)\n",
    "plt.scatter(x,y,color=\"blue\",s=25,label=\"Observaciones\")\n",
    "plt.legend(loc='best')\n",
    "plt.show()"
   ]
  },
  {
   "cell_type": "code",
   "execution_count": 7,
   "metadata": {},
   "outputs": [
    {
     "name": "stdout",
     "output_type": "stream",
     "text": [
      "20\n",
      "20\n"
     ]
    }
   ],
   "source": [
    "#Función auxiliar\n",
    "xejemp = [1,3,7]\n",
    "yejemp = [2,-1,3]\n",
    "r = np.dot(xejemp,yejemp)\n",
    "print(r)\n",
    "print( (1)*(2) + (3)*(-1) + (7)*(3) )"
   ]
  },
  {
   "cell_type": "markdown",
   "metadata": {},
   "source": [
    "# Función para el cálculo de los coeficientes de la regresión lineal"
   ]
  },
  {
   "cell_type": "code",
   "execution_count": 8,
   "metadata": {},
   "outputs": [],
   "source": [
    "#Función para el cálculo de los coeficientes de la regresión lineal\n",
    "def RLS(x,y):\n",
    "    n = len(y)\n",
    "    m = (-np.dot(x,y) + float(n)*np.mean(y)*np.mean(x))/(-np.dot(x,x) + n*(np.mean(x)**2.))\n",
    "    b = np.mean(y) - m*np.mean(x)\n",
    "    #Definición del vector de valores estimados y de residuales\n",
    "    ye = []\n",
    "    e = []\n",
    "    for i in range(n):\n",
    "        ye.extend([m*x[i] + b])\n",
    "        #ye.append(m*x[i] + b)\n",
    "        e.extend([y[i]-ye[i]])\n",
    "    return [m,b,ye,e]\n",
    "[m,b,ye,e] = RLS(x,y)"
   ]
  },
  {
   "cell_type": "code",
   "execution_count": 9,
   "metadata": {},
   "outputs": [
    {
     "name": "stdout",
     "output_type": "stream",
     "text": [
      "La pendiente estimada es 1.9620420568904169\n",
      "La ordenda al origen estimada es 9.483643256247888\n"
     ]
    }
   ],
   "source": [
    "#Impresión de pendiente y ordenada al origen\n",
    "print(\"La pendiente estimada es\",m)\n",
    "print(\"La ordenda al origen estimada es\",b)"
   ]
  },
  {
   "cell_type": "code",
   "execution_count": 10,
   "metadata": {},
   "outputs": [
    {
     "data": {
      "text/html": [
       "<div>\n",
       "<style scoped>\n",
       "    .dataframe tbody tr th:only-of-type {\n",
       "        vertical-align: middle;\n",
       "    }\n",
       "\n",
       "    .dataframe tbody tr th {\n",
       "        vertical-align: top;\n",
       "    }\n",
       "\n",
       "    .dataframe thead th {\n",
       "        text-align: right;\n",
       "    }\n",
       "</style>\n",
       "<table border=\"1\" class=\"dataframe\">\n",
       "  <thead>\n",
       "    <tr style=\"text-align: right;\">\n",
       "      <th></th>\n",
       "      <th>X</th>\n",
       "      <th>Y</th>\n",
       "      <th>Y_Est</th>\n",
       "      <th>Residuales</th>\n",
       "    </tr>\n",
       "  </thead>\n",
       "  <tbody>\n",
       "    <tr>\n",
       "      <th>0</th>\n",
       "      <td>2.0</td>\n",
       "      <td>-9.910487</td>\n",
       "      <td>13.407727</td>\n",
       "      <td>-23.318215</td>\n",
       "    </tr>\n",
       "    <tr>\n",
       "      <th>1</th>\n",
       "      <td>4.0</td>\n",
       "      <td>-7.197661</td>\n",
       "      <td>17.331811</td>\n",
       "      <td>-24.529472</td>\n",
       "    </tr>\n",
       "    <tr>\n",
       "      <th>2</th>\n",
       "      <td>6.0</td>\n",
       "      <td>22.737312</td>\n",
       "      <td>21.255896</td>\n",
       "      <td>1.481416</td>\n",
       "    </tr>\n",
       "    <tr>\n",
       "      <th>3</th>\n",
       "      <td>8.0</td>\n",
       "      <td>50.373510</td>\n",
       "      <td>25.179980</td>\n",
       "      <td>25.193531</td>\n",
       "    </tr>\n",
       "    <tr>\n",
       "      <th>4</th>\n",
       "      <td>10.0</td>\n",
       "      <td>8.505899</td>\n",
       "      <td>29.104064</td>\n",
       "      <td>-20.598165</td>\n",
       "    </tr>\n",
       "  </tbody>\n",
       "</table>\n",
       "</div>"
      ],
      "text/plain": [
       "      X          Y      Y_Est  Residuales\n",
       "0   2.0  -9.910487  13.407727  -23.318215\n",
       "1   4.0  -7.197661  17.331811  -24.529472\n",
       "2   6.0  22.737312  21.255896    1.481416\n",
       "3   8.0  50.373510  25.179980   25.193531\n",
       "4  10.0   8.505899  29.104064  -20.598165"
      ]
     },
     "execution_count": 10,
     "metadata": {},
     "output_type": "execute_result"
    }
   ],
   "source": [
    "#Creación de base con la aproximación y residuales\n",
    "MRL = M.copy(deep=True).reset_index(drop=True)\n",
    "MRL[\"Y_Est\"] = ye\n",
    "MRL[\"Residuales\"] = e\n",
    "MRL.head()"
   ]
  },
  {
   "cell_type": "code",
   "execution_count": 11,
   "metadata": {},
   "outputs": [
    {
     "data": {
      "image/png": "[encoded data removed]",
      "text/plain": [
       "<Figure size 1500x500 with 1 Axes>"
      ]
     },
     "metadata": {},
     "output_type": "display_data"
    }
   ],
   "source": [
    "#Gráfica (Regresión Lineal)\n",
    "fig = plt.figure(figsize=(15.,5.))\n",
    "ax = fig.add_subplot(1,1,1)\n",
    "plt.scatter(x,y,color=\"blue\",s=25,label=\"Obs. Real\")\n",
    "plt.plot(x,ye,color=\"red\",linewidth=1.5,label=\"Ajuste Lineal\")\n",
    "plt.legend(loc='best')\n",
    "plt.show()"
   ]
  },
  {
   "cell_type": "code",
   "execution_count": null,
   "metadata": {},
   "outputs": [],
   "source": [
    "M.head(1)"
   ]
  },
  {
   "cell_type": "code",
   "execution_count": null,
   "metadata": {},
   "outputs": [],
   "source": [
    "M.tail()"
   ]
  },
  {
   "cell_type": "code",
   "execution_count": null,
   "metadata": {},
   "outputs": [],
   "source": [
    "#Qué pasaría si x = 202\n",
    "# y = m*x + b\n"
   ]
  },
  {
   "cell_type": "code",
   "execution_count": null,
   "metadata": {},
   "outputs": [],
   "source": [
    "m"
   ]
  },
  {
   "cell_type": "code",
   "execution_count": null,
   "metadata": {},
   "outputs": [],
   "source": [
    "b"
   ]
  },
  {
   "cell_type": "code",
   "execution_count": null,
   "metadata": {},
   "outputs": [],
   "source": [
    "#y = m*202 + b\n",
    "#print(\"Esperamos que y sea igual a\",y,\"cuando x es igual a\",202)"
   ]
  },
  {
   "cell_type": "code",
   "execution_count": null,
   "metadata": {},
   "outputs": [],
   "source": [
    "#Histograma sin suavizamiento de Kernel\n",
    "from math import log\n",
    "fig = plt.figure(figsize=(10.,5.))\n",
    "ax = fig.add_subplot(1,1,1)\n",
    "ax.set_title(\"Histograma residuales\")\n",
    "plt.hist(e, bins = 12,histtype=\"bar\",rwidth=0.9,color=\"blue\")\n",
    "plt.show()"
   ]
  },
  {
   "cell_type": "markdown",
   "metadata": {},
   "source": [
    "# Otras paqueterías para realizar una regresión lineal"
   ]
  },
  {
   "cell_type": "code",
   "execution_count": 13,
   "metadata": {},
   "outputs": [
    {
     "name": "stdout",
     "output_type": "stream",
     "text": [
      "[9.48364326 1.96204206]\n",
      "                            OLS Regression Results                            \n",
      "==============================================================================\n",
      "Dep. Variable:                      y   R-squared:                       0.964\n",
      "Model:                            OLS   Adj. R-squared:                  0.963\n",
      "Method:                 Least Squares   F-statistic:                     2592.\n",
      "Date:                Tue, 13 Jun 2023   Prob (F-statistic):           2.68e-72\n",
      "Time:                        10:18:02   Log-Likelihood:                -451.12\n",
      "No. Observations:                 100   AIC:                             906.2\n",
      "Df Residuals:                      98   BIC:                             911.4\n",
      "Df Model:                           1                                         \n",
      "Covariance Type:            nonrobust                                         \n",
      "==============================================================================\n",
      "                 coef    std err          t      P>|t|      [0.025      0.975]\n",
      "------------------------------------------------------------------------------\n",
      "const          9.4836      4.484      2.115      0.037       0.586      18.381\n",
      "x1             1.9620      0.039     50.908      0.000       1.886       2.039\n",
      "==============================================================================\n",
      "Omnibus:                        1.685   Durbin-Watson:                   1.990\n",
      "Prob(Omnibus):                  0.431   Jarque-Bera (JB):                1.352\n",
      "Skew:                           0.087   Prob(JB):                        0.509\n",
      "Kurtosis:                       2.457   Cond. No.                         234.\n",
      "==============================================================================\n",
      "\n",
      "Notes:\n",
      "[1] Standard Errors assume that the covariance matrix of the errors is correctly specified.\n"
     ]
    }
   ],
   "source": [
    "#Regresión lineal con la librería statsmodels #pip install statsmodels\n",
    "import statsmodels.api as sm\n",
    "est = sm.OLS(y, sm.add_constant(x))\n",
    "est2 = est.fit()\n",
    "print(est2.params)\n",
    "print(est2.summary())"
   ]
  },
  {
   "cell_type": "code",
   "execution_count": 14,
   "metadata": {},
   "outputs": [
    {
     "name": "stdout",
     "output_type": "stream",
     "text": [
      "[1, 5, -7]\n",
      "[ 1  5 -7]\n",
      "[[ 1  5 -7]]\n",
      "[[ 1]\n",
      " [ 5]\n",
      " [-7]]\n"
     ]
    }
   ],
   "source": [
    "#Observación dimensionar un objeto array \n",
    "vec = [1,5,-7]\n",
    "veca = np.asarray(vec)\n",
    "vecar_1 = veca.reshape(1,3) \n",
    "vecar_2 = veca.reshape(-1,1) #El valor es inferido con base en la dimensión del vector\n",
    "print(vec)\n",
    "print(veca)\n",
    "print(vecar_1)\n",
    "print(vecar_2)"
   ]
  },
  {
   "cell_type": "code",
   "execution_count": 15,
   "metadata": {},
   "outputs": [
    {
     "name": "stdout",
     "output_type": "stream",
     "text": [
      "[9.48364326]\n",
      "[[1.96204206]]\n"
     ]
    }
   ],
   "source": [
    "#Regresión lineal con la librería #install -U scikit-learn\n",
    "from sklearn.linear_model import LinearRegression\n",
    "xa = np.asarray(x)\n",
    "ya = np.asarray(y)\n",
    "lin_reg = LinearRegression()\n",
    "lin_reg.fit(xa.reshape(-1,1),ya.reshape(-1,1))\n",
    "xa = np.array(x)\n",
    "print(lin_reg.intercept_)\n",
    "print(lin_reg.coef_)"
   ]
  },
  {
   "cell_type": "markdown",
   "metadata": {},
   "source": [
    "# Ejercicio 1. El archivo EstaturaBebe.csv contiene la edad en meses y la estatura en centímetros de un bebé hasta un año edad. Utilizando una regresión lineal, estimar la estatura de un bebé de 13 meses."
   ]
  },
  {
   "cell_type": "markdown",
   "metadata": {},
   "source": [
    "# Ejercicio 2. Cargar el archivo \"TransformacionRegresionLineal.csv\", a partir de la gráfica de dispersión proponer una transformación de la variable X para poder ajustar una regresión lineal."
   ]
  },
  {
   "cell_type": "code",
   "execution_count": null,
   "metadata": {},
   "outputs": [],
   "source": []
  }
 ],
 "metadata": {
  "kernelspec": {
   "display_name": "Python 3",
   "language": "python",
   "name": "python3"
  },
  "language_info": {
   "codemirror_mode": {
    "name": "ipython",
    "version": 3
   },
   "file_extension": ".py",
   "mimetype": "text/x-python",
   "name": "python",
   "nbconvert_exporter": "python",
   "pygments_lexer": "ipython3",
   "version": "3.11.2"
  }
 },
 "nbformat": 4,
 "nbformat_minor": 2
}
