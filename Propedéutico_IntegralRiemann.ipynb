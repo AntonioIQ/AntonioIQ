{
 "cells": [
  {
   "cell_type": "code",
   "execution_count": 1,
   "metadata": {},
   "outputs": [],
   "source": [
    "import numpy as np\n",
    "import pandas as pd\n",
    "import warnings\n",
    "import math\n",
    "from math import exp\n",
    "#%matplotlib notebook\n",
    "import matplotlib.pyplot as plt\n",
    "from mpl_toolkits.mplot3d import Axes3D\n",
    "pd.set_option('display.max_columns',None)\n",
    "pd.set_option('display.max_rows',None)\n",
    "warnings.filterwarnings('ignore')\n",
    "pd.options.display.float_format = \"{:,.5f}\".format"
   ]
  },
  {
   "cell_type": "markdown",
   "metadata": {},
   "source": [
    "# Ejemplo parábola"
   ]
  },
  {
   "cell_type": "code",
   "execution_count": 2,
   "metadata": {},
   "outputs": [],
   "source": [
    "def fparabola(x):\n",
    "    y = x**2\n",
    "    return y"
   ]
  },
  {
   "cell_type": "code",
   "execution_count": 3,
   "metadata": {},
   "outputs": [],
   "source": [
    "vx = np.linspace(-1.5,1.5,100)\n",
    "vy = [fparabola(x) for x in vx]"
   ]
  },
  {
   "cell_type": "code",
   "execution_count": 4,
   "metadata": {},
   "outputs": [
    {
     "data": {
      "image/png": "[encoded data removed]",
      "text/plain": [
       "<Figure size 700x500 with 1 Axes>"
      ]
     },
     "metadata": {},
     "output_type": "display_data"
    }
   ],
   "source": [
    "a, b = 0, 1\n",
    "fig = plt.figure(figsize=(7,5))\n",
    "ax = fig.add_subplot(1,1,1)\n",
    "plt.plot(vx,vy,color=\"blue\",label=\"Área bajo la curva\")\n",
    "plt.legend(loc='best')\n",
    "plt.fill_between(x= vx,y1= vy,where= (a < vx)&(vx < b),color= \"b\",alpha= 0.2)\n",
    "plt.show()"
   ]
  },
  {
   "cell_type": "code",
   "execution_count": null,
   "metadata": {},
   "outputs": [],
   "source": [
    "Aprox1 = (1/2)*((1/2)**2 + (2/2)**2)\n",
    "Aprox2 = (1/3)*((1/3)**2 + (2/3)**2 + (3/3)**2)\n",
    "Aprox3 = (1/4)*((1/4)**2 + (2/4)**2 + (3/4)**2 + (4/4)**2)\n",
    "Aprox4 = (1/5)*((1/5)**2 + (2/5)**2 + (3/5)**2 + (4/5)**2 + (5/5)**2)\n",
    "Aprox5 = (1/6)*((1/6)**2 + (2/6)**2 + (3/6)**2 + (4/6)**2 + (5/6)**2 + (6/6)**2)\n",
    "Aprox6 = (1/7)*((1/7)**2 + (2/7)**2 + (3/7)**2 + (4/7)**2 + (5/7)**2 + (6/7)**2 + (7/7)**2)\n",
    "Aprox50_aux = [(1/50)*((i/50)**2) for i in range(1,51)]\n",
    "print(\"El valor de la aproximación n=2 es igual a\",Aprox1)\n",
    "print(\"El valor de la aproximación n=3 es igual a\",Aprox2)\n",
    "print(\"El valor de la aproximación n=4 es igual a\",Aprox3)\n",
    "print(\"El valor de la aproximación n=5 es igual a\",Aprox4)\n",
    "print(\"El valor de la aproximación n=6 es igual a\",Aprox5)\n",
    "print(\"El valor de la aproximación n=7 es igual a\",Aprox6)\n",
    "print(\"El valor de la aproximación n=20 es igual a\",np.sum(Aprox50_aux))"
   ]
  },
  {
   "cell_type": "code",
   "execution_count": null,
   "metadata": {},
   "outputs": [],
   "source": [
    "def IntParabola(a,b,n):\n",
    "    a = float(a)\n",
    "    b = float(b)\n",
    "    d = (b-a)/float(n)\n",
    "    suma = 0.\n",
    "    for i in range(n):\n",
    "        c = a + d*i\n",
    "        suma = suma + fparabola(c)*d\n",
    "    return suma"
   ]
  },
  {
   "cell_type": "code",
   "execution_count": null,
   "metadata": {},
   "outputs": [],
   "source": [
    "a, b, n = 0, 1, 10000\n",
    "I = IntParabola(a,b,n)\n",
    "print(\"El valde de la integral de\", a ,\"al valor\",b,\"es igual a\",I)"
   ]
  },
  {
   "cell_type": "markdown",
   "metadata": {},
   "source": [
    "# Ejemplo \"densidad\" normal"
   ]
  },
  {
   "cell_type": "code",
   "execution_count": null,
   "metadata": {},
   "outputs": [],
   "source": [
    "vx = np.linspace(-6,6,100)"
   ]
  },
  {
   "cell_type": "code",
   "execution_count": null,
   "metadata": {},
   "outputs": [],
   "source": [
    "def DenNormal(x,m,var):\n",
    "    x = float(x)\n",
    "    m = float(m)\n",
    "    var = float(var)\n",
    "    s = var**(0.5);\n",
    "    p = math.pi;\n",
    "    y = (1./(((2.*p)**(0.5))*s))*exp(-((x-m)**2.)/(2.*var));\n",
    "    return y"
   ]
  },
  {
   "cell_type": "code",
   "execution_count": null,
   "metadata": {},
   "outputs": [],
   "source": [
    "#Función 1\n",
    "m, var = 0, 1\n",
    "vy1 = [DenNormal(x,m,var) for x in vx]\n",
    "#Función 2\n",
    "m, var = 0, 0.5\n",
    "vy2 = [DenNormal(x,m,var) for x in vx]\n",
    "#Función 3\n",
    "m, var = 0, 2\n",
    "vy3 = [DenNormal(x,m,var) for x in vx]"
   ]
  },
  {
   "cell_type": "code",
   "execution_count": null,
   "metadata": {},
   "outputs": [],
   "source": [
    "fig = plt.figure(figsize=(10,5))\n",
    "ax = fig.add_subplot(1,1,1)\n",
    "plt.plot(vx,vy1,color=\"blue\",label=\"Densidad normal varianza 1\")\n",
    "plt.plot(vx,vy2,color=\"red\",label=\"Densidad normal varianza 0.5\")\n",
    "plt.plot(vx,vy3,color=\"green\",label=\"Densidad normal varianza 2\")\n",
    "plt.legend(loc='best')\n",
    "plt.show()"
   ]
  },
  {
   "cell_type": "code",
   "execution_count": null,
   "metadata": {},
   "outputs": [],
   "source": [
    "#Función 1\n",
    "m, var = 0, 1\n",
    "vy1 = [DenNormal(x,m,var) for x in vx]\n",
    "#Función 2\n",
    "m, var = -1, 1\n",
    "vy2 = [DenNormal(x,m,var) for x in vx]\n",
    "#Función 3\n",
    "m, var = 1, 1\n",
    "vy3 = [DenNormal(x,m,var) for x in vx]"
   ]
  },
  {
   "cell_type": "code",
   "execution_count": null,
   "metadata": {},
   "outputs": [],
   "source": [
    "fig = plt.figure(figsize=(10,5))\n",
    "ax = fig.add_subplot(1,1,1)\n",
    "plt.plot(vx,vy1,color=\"blue\",label=\"Densidad normal media 0\")\n",
    "plt.plot(vx,vy2,color=\"red\",label=\"Densidad normal media -1\")\n",
    "plt.plot(vx,vy3,color=\"green\",label=\"Densidad normal media 1\")\n",
    "plt.legend(loc='best')\n",
    "plt.show()"
   ]
  },
  {
   "cell_type": "code",
   "execution_count": null,
   "metadata": {},
   "outputs": [],
   "source": [
    "def IntDenNormal(a,b,n,m,var):\n",
    "    a = float(a)\n",
    "    b = float(b)\n",
    "    d = (b-a)/float(n)\n",
    "    suma = 0.\n",
    "    for i in range(n):\n",
    "        c = a + d*i\n",
    "        suma = suma + DenNormal(c,m,var)*d\n",
    "    return suma"
   ]
  },
  {
   "cell_type": "markdown",
   "metadata": {},
   "source": [
    "# Ejemplo 1"
   ]
  },
  {
   "cell_type": "code",
   "execution_count": null,
   "metadata": {},
   "outputs": [],
   "source": [
    "m, var, a, b, n = 0, 1, -4.0, 0.0, 10000\n",
    "I = IntDenNormal(a,b,n,m,var)\n",
    "print(\"El valde de la integral de\", a ,\"al valor\",b,\"es igual a\",I)"
   ]
  },
  {
   "cell_type": "code",
   "execution_count": null,
   "metadata": {},
   "outputs": [],
   "source": [
    "#Gráfica de área bajo la curva\n",
    "#Función\n",
    "vx = np.linspace(-4,4,100)\n",
    "m, var = 0, 1\n",
    "vy = [DenNormal(x,m,var) for x in vx]"
   ]
  },
  {
   "cell_type": "code",
   "execution_count": null,
   "metadata": {},
   "outputs": [],
   "source": [
    "fig = plt.figure(figsize=(10,5))\n",
    "ax = fig.add_subplot(1,1,1)\n",
    "plt.plot(vx,vy,color=\"blue\",label=\"Área bajo la curva\")\n",
    "plt.legend(loc='best')\n",
    "plt.fill_between(x= vx,y1= vy,where= (a < vx)&(vx < b),color= \"b\",alpha= 0.2)\n",
    "plt.show()"
   ]
  },
  {
   "cell_type": "markdown",
   "metadata": {},
   "source": [
    "# Ejemplo 2"
   ]
  },
  {
   "cell_type": "code",
   "execution_count": null,
   "metadata": {},
   "outputs": [],
   "source": [
    "m, var, a, b, n = 0, 1, -4.0, 4.0, 10000\n",
    "I = IntDenNormal(a,b,n,m,var)\n",
    "print(\"El valde de la integral de\", a ,\"al valor\",b,\"es igual a\",I)"
   ]
  },
  {
   "cell_type": "code",
   "execution_count": null,
   "metadata": {},
   "outputs": [],
   "source": [
    "#Gráfica de área bajo la curva\n",
    "#Función\n",
    "vx = np.linspace(-4,4,100)\n",
    "m, var = 0, 1\n",
    "vy = [DenNormal(x,m,var) for x in vx]"
   ]
  },
  {
   "cell_type": "code",
   "execution_count": null,
   "metadata": {},
   "outputs": [],
   "source": [
    "fig = plt.figure(figsize=(10,5))\n",
    "ax = fig.add_subplot(1,1,1)\n",
    "plt.plot(vx,vy,color=\"blue\",label=\"Área bajo la curva\")\n",
    "plt.legend(loc='best')\n",
    "plt.fill_between(x= vx,y1= vy,where= (a < vx)&(vx < b),color= \"b\",alpha= 0.2)\n",
    "plt.show()"
   ]
  },
  {
   "cell_type": "markdown",
   "metadata": {},
   "source": [
    "# Ejemplo 3"
   ]
  },
  {
   "cell_type": "code",
   "execution_count": null,
   "metadata": {},
   "outputs": [],
   "source": [
    "m, var, a, b, n = 0, 1, -4.0, 1.9, 10000\n",
    "I = IntDenNormal(a,b,n,m,var)\n",
    "print(\"El valde de la integral de\", a ,\"al valor\",b,\"es igual a\",I)"
   ]
  },
  {
   "cell_type": "code",
   "execution_count": null,
   "metadata": {},
   "outputs": [],
   "source": [
    "#Gráfica de área bajo la curva\n",
    "#Función\n",
    "vx = np.linspace(-4,4,100)\n",
    "m, var = 0, 1\n",
    "vy = [DenNormal(x,m,var) for x in vx]"
   ]
  },
  {
   "cell_type": "code",
   "execution_count": null,
   "metadata": {},
   "outputs": [],
   "source": [
    "fig = plt.figure(figsize=(10,5))\n",
    "ax = fig.add_subplot(1,1,1)\n",
    "plt.plot(vx,vy,color=\"blue\",label=\"Área bajo la curva\")\n",
    "plt.legend(loc='best')\n",
    "plt.fill_between(x= vx,y1= vy,where= (a < vx)&(vx < b),color= \"b\",alpha= 0.2)\n",
    "plt.show()"
   ]
  },
  {
   "cell_type": "code",
   "execution_count": null,
   "metadata": {},
   "outputs": [],
   "source": []
  }
 ],
 "metadata": {
  "kernelspec": {
   "display_name": "Python 3",
   "language": "python",
   "name": "python3"
  },
  "language_info": {
   "codemirror_mode": {
    "name": "ipython",
    "version": 3
   },
   "file_extension": ".py",
   "mimetype": "text/x-python",
   "name": "python",
   "nbconvert_exporter": "python",
   "pygments_lexer": "ipython3",
   "version": "3.11.2"
  }
 },
 "nbformat": 4,
 "nbformat_minor": 2
}
